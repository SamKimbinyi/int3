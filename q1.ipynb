{
 "cells": [
  {
   "cell_type": "code",
   "execution_count": 2,
   "metadata": {
    "collapsed": true
   },
   "outputs": [],
   "source": [
    "import pandas as pd\n",
    "import matplotlib.pyplot as plt\n",
    "import numpy as np\n",
    "from numpy.linalg import lstsq\n",
    "from sklearn.linear_model import LinearRegression, Ridge\n",
    "from sklearn.linear_model import RidgeCV, LinearRegression, LassoCV\n",
    "from sklearn.model_selection import train_test_split\n",
    "from sklearn.metrics import r2_score\n",
    "from sklearn.pipeline import make_pipeline\n",
    "from sklearn.preprocessing import PolynomialFeatures"
   ]
  },
  {
   "cell_type": "code",
   "execution_count": 3,
   "outputs": [],
   "source": [
    "df = pd.read_csv(\"data.csv\")"
   ],
   "metadata": {
    "collapsed": false,
    "pycharm": {
     "name": "#%%\n"
    }
   }
  },
  {
   "cell_type": "code",
   "execution_count": 4,
   "outputs": [
    {
     "data": {
      "text/plain": "         A     B    C    D\n0    10.07  2.18  3.0  0.8\n1    10.00  2.20  3.0  0.7\n2     9.95  2.21  3.0  0.9\n3     9.93  2.30  2.5  1.1\n4     9.88  2.30  2.5  0.9\n..     ...   ...  ...  ...\n223   8.98  3.00  0.0  1.5\n224   8.91  3.10  0.0  1.6\n225   8.80  3.20  0.0  1.4\n226   8.73  3.10  0.0  1.5\n227   8.70  3.00  0.0  1.3\n\n[228 rows x 4 columns]",
      "text/html": "<div>\n<style scoped>\n    .dataframe tbody tr th:only-of-type {\n        vertical-align: middle;\n    }\n\n    .dataframe tbody tr th {\n        vertical-align: top;\n    }\n\n    .dataframe thead th {\n        text-align: right;\n    }\n</style>\n<table border=\"1\" class=\"dataframe\">\n  <thead>\n    <tr style=\"text-align: right;\">\n      <th></th>\n      <th>A</th>\n      <th>B</th>\n      <th>C</th>\n      <th>D</th>\n    </tr>\n  </thead>\n  <tbody>\n    <tr>\n      <th>0</th>\n      <td>10.07</td>\n      <td>2.18</td>\n      <td>3.0</td>\n      <td>0.8</td>\n    </tr>\n    <tr>\n      <th>1</th>\n      <td>10.00</td>\n      <td>2.20</td>\n      <td>3.0</td>\n      <td>0.7</td>\n    </tr>\n    <tr>\n      <th>2</th>\n      <td>9.95</td>\n      <td>2.21</td>\n      <td>3.0</td>\n      <td>0.9</td>\n    </tr>\n    <tr>\n      <th>3</th>\n      <td>9.93</td>\n      <td>2.30</td>\n      <td>2.5</td>\n      <td>1.1</td>\n    </tr>\n    <tr>\n      <th>4</th>\n      <td>9.88</td>\n      <td>2.30</td>\n      <td>2.5</td>\n      <td>0.9</td>\n    </tr>\n    <tr>\n      <th>...</th>\n      <td>...</td>\n      <td>...</td>\n      <td>...</td>\n      <td>...</td>\n    </tr>\n    <tr>\n      <th>223</th>\n      <td>8.98</td>\n      <td>3.00</td>\n      <td>0.0</td>\n      <td>1.5</td>\n    </tr>\n    <tr>\n      <th>224</th>\n      <td>8.91</td>\n      <td>3.10</td>\n      <td>0.0</td>\n      <td>1.6</td>\n    </tr>\n    <tr>\n      <th>225</th>\n      <td>8.80</td>\n      <td>3.20</td>\n      <td>0.0</td>\n      <td>1.4</td>\n    </tr>\n    <tr>\n      <th>226</th>\n      <td>8.73</td>\n      <td>3.10</td>\n      <td>0.0</td>\n      <td>1.5</td>\n    </tr>\n    <tr>\n      <th>227</th>\n      <td>8.70</td>\n      <td>3.00</td>\n      <td>0.0</td>\n      <td>1.3</td>\n    </tr>\n  </tbody>\n</table>\n<p>228 rows × 4 columns</p>\n</div>"
     },
     "execution_count": 4,
     "metadata": {},
     "output_type": "execute_result"
    }
   ],
   "source": [
    "df"
   ],
   "metadata": {
    "collapsed": false,
    "pycharm": {
     "name": "#%%\n"
    }
   }
  },
  {
   "cell_type": "code",
   "execution_count": 5,
   "outputs": [],
   "source": [
    "target = df[\"D\"].copy()\n",
    "df[\"D\"] = target.shift(1,fill_value=target[0])\n"
   ],
   "metadata": {
    "collapsed": false,
    "pycharm": {
     "name": "#%%\n"
    }
   }
  },
  {
   "cell_type": "code",
   "execution_count": 6,
   "outputs": [
    {
     "data": {
      "text/plain": "         A     B    C    D\n0    10.07  2.18  3.0  0.8\n1    10.00  2.20  3.0  0.8\n2     9.95  2.21  3.0  0.7\n3     9.93  2.30  2.5  0.9\n4     9.88  2.30  2.5  1.1\n..     ...   ...  ...  ...\n223   8.98  3.00  0.0  1.3\n224   8.91  3.10  0.0  1.5\n225   8.80  3.20  0.0  1.6\n226   8.73  3.10  0.0  1.4\n227   8.70  3.00  0.0  1.5\n\n[228 rows x 4 columns]",
      "text/html": "<div>\n<style scoped>\n    .dataframe tbody tr th:only-of-type {\n        vertical-align: middle;\n    }\n\n    .dataframe tbody tr th {\n        vertical-align: top;\n    }\n\n    .dataframe thead th {\n        text-align: right;\n    }\n</style>\n<table border=\"1\" class=\"dataframe\">\n  <thead>\n    <tr style=\"text-align: right;\">\n      <th></th>\n      <th>A</th>\n      <th>B</th>\n      <th>C</th>\n      <th>D</th>\n    </tr>\n  </thead>\n  <tbody>\n    <tr>\n      <th>0</th>\n      <td>10.07</td>\n      <td>2.18</td>\n      <td>3.0</td>\n      <td>0.8</td>\n    </tr>\n    <tr>\n      <th>1</th>\n      <td>10.00</td>\n      <td>2.20</td>\n      <td>3.0</td>\n      <td>0.8</td>\n    </tr>\n    <tr>\n      <th>2</th>\n      <td>9.95</td>\n      <td>2.21</td>\n      <td>3.0</td>\n      <td>0.7</td>\n    </tr>\n    <tr>\n      <th>3</th>\n      <td>9.93</td>\n      <td>2.30</td>\n      <td>2.5</td>\n      <td>0.9</td>\n    </tr>\n    <tr>\n      <th>4</th>\n      <td>9.88</td>\n      <td>2.30</td>\n      <td>2.5</td>\n      <td>1.1</td>\n    </tr>\n    <tr>\n      <th>...</th>\n      <td>...</td>\n      <td>...</td>\n      <td>...</td>\n      <td>...</td>\n    </tr>\n    <tr>\n      <th>223</th>\n      <td>8.98</td>\n      <td>3.00</td>\n      <td>0.0</td>\n      <td>1.3</td>\n    </tr>\n    <tr>\n      <th>224</th>\n      <td>8.91</td>\n      <td>3.10</td>\n      <td>0.0</td>\n      <td>1.5</td>\n    </tr>\n    <tr>\n      <th>225</th>\n      <td>8.80</td>\n      <td>3.20</td>\n      <td>0.0</td>\n      <td>1.6</td>\n    </tr>\n    <tr>\n      <th>226</th>\n      <td>8.73</td>\n      <td>3.10</td>\n      <td>0.0</td>\n      <td>1.4</td>\n    </tr>\n    <tr>\n      <th>227</th>\n      <td>8.70</td>\n      <td>3.00</td>\n      <td>0.0</td>\n      <td>1.5</td>\n    </tr>\n  </tbody>\n</table>\n<p>228 rows × 4 columns</p>\n</div>"
     },
     "execution_count": 6,
     "metadata": {},
     "output_type": "execute_result"
    }
   ],
   "source": [
    "df"
   ],
   "metadata": {
    "collapsed": false,
    "pycharm": {
     "name": "#%%\n"
    }
   }
  },
  {
   "cell_type": "code",
   "execution_count": 7,
   "outputs": [
    {
     "name": "stderr",
     "output_type": "stream",
     "text": [
      "C:\\Users\\Sam\\AppData\\Local\\Temp/ipykernel_19952/3033583746.py:4: PerformanceWarning: DataFrame is highly fragmented.  This is usually the result of calling `frame.insert` many times, which has poor performance.  Consider joining all columns at once using pd.concat(axis=1) instead.  To get a de-fragmented frame, use `newframe = frame.copy()`\n",
      "  df[f\"{columns}_Lag_{i}\"] = df[columns].shift(i, fill_value=fill_value)\n"
     ]
    }
   ],
   "source": [
    "for index, columns in enumerate([\"A\", \"B\", \"C\", \"D\"]):\n",
    "    for i in range(len(df)):\n",
    "        fill_value = df[columns].iloc[0]\n",
    "        df[f\"{columns}_Lag_{i}\"] = df[columns].shift(i, fill_value=fill_value)\n"
   ],
   "metadata": {
    "collapsed": false,
    "pycharm": {
     "name": "#%%\n"
    }
   }
  },
  {
   "cell_type": "code",
   "execution_count": 8,
   "outputs": [
    {
     "data": {
      "text/plain": "0      0.8\n1      0.7\n2      0.9\n3      1.1\n4      0.9\n      ... \n223    1.5\n224    1.6\n225    1.4\n226    1.5\n227    1.3\nName: D, Length: 228, dtype: float64"
     },
     "execution_count": 8,
     "metadata": {},
     "output_type": "execute_result"
    }
   ],
   "source": [
    "target"
   ],
   "metadata": {
    "collapsed": false,
    "pycharm": {
     "name": "#%%\n"
    }
   }
  },
  {
   "cell_type": "code",
   "execution_count": 9,
   "outputs": [],
   "source": [
    "df.drop([\"A\",\"B\",\"C\",\"D\"],axis=1,inplace=True)"
   ],
   "metadata": {
    "collapsed": false,
    "pycharm": {
     "name": "#%%\n"
    }
   }
  },
  {
   "cell_type": "code",
   "execution_count": 10,
   "outputs": [
    {
     "data": {
      "text/plain": "0"
     },
     "execution_count": 10,
     "metadata": {},
     "output_type": "execute_result"
    }
   ],
   "source": [
    "df.isnull().sum().sum()"
   ],
   "metadata": {
    "collapsed": false,
    "pycharm": {
     "name": "#%%\n"
    }
   }
  },
  {
   "cell_type": "code",
   "execution_count": 11,
   "outputs": [
    {
     "data": {
      "text/plain": "0      0.8\n1      0.8\n2      0.7\n3      0.9\n4      1.1\n      ... \n223    1.3\n224    1.5\n225    1.6\n226    1.4\n227    1.5\nName: D_Lag_0, Length: 228, dtype: float64"
     },
     "execution_count": 11,
     "metadata": {},
     "output_type": "execute_result"
    }
   ],
   "source": [
    "df[\"D_Lag_0\"]"
   ],
   "metadata": {
    "collapsed": false,
    "pycharm": {
     "name": "#%%\n"
    }
   }
  },
  {
   "cell_type": "code",
   "execution_count": 12,
   "outputs": [
    {
     "data": {
      "text/plain": "0      0.8\n1      0.7\n2      0.9\n3      1.1\n4      0.9\n      ... \n223    1.5\n224    1.6\n225    1.4\n226    1.5\n227    1.3\nName: D, Length: 228, dtype: float64"
     },
     "execution_count": 12,
     "metadata": {},
     "output_type": "execute_result"
    }
   ],
   "source": [
    "target"
   ],
   "metadata": {
    "collapsed": false,
    "pycharm": {
     "name": "#%%\n"
    }
   }
  },
  {
   "cell_type": "code",
   "execution_count": 13,
   "outputs": [
    {
     "data": {
      "text/plain": "0"
     },
     "execution_count": 13,
     "metadata": {},
     "output_type": "execute_result"
    }
   ],
   "source": [
    "target.isnull().sum().sum()"
   ],
   "metadata": {
    "collapsed": false,
    "pycharm": {
     "name": "#%%\n"
    }
   }
  },
  {
   "cell_type": "code",
   "execution_count": 14,
   "outputs": [
    {
     "data": {
      "text/plain": "0      0.8\n1      0.7\n2      0.9\n3      1.1\n4      0.9\n      ... \n223    1.5\n224    1.6\n225    1.4\n226    1.5\n227    1.3\nName: D, Length: 228, dtype: float64"
     },
     "execution_count": 14,
     "metadata": {},
     "output_type": "execute_result"
    }
   ],
   "source": [
    "target"
   ],
   "metadata": {
    "collapsed": false,
    "pycharm": {
     "name": "#%%\n"
    }
   }
  },
  {
   "cell_type": "markdown",
   "source": [],
   "metadata": {
    "collapsed": false
   }
  },
  {
   "cell_type": "code",
   "execution_count": 15,
   "outputs": [],
   "source": [
    "x_train, x_test, y_train, y_test = train_test_split(df,target)"
   ],
   "metadata": {
    "collapsed": false,
    "pycharm": {
     "name": "#%%\n"
    }
   }
  },
  {
   "cell_type": "code",
   "execution_count": 16,
   "outputs": [
    {
     "data": {
      "text/plain": "0"
     },
     "execution_count": 16,
     "metadata": {},
     "output_type": "execute_result"
    }
   ],
   "source": [
    "y_test.isnull().sum().sum()"
   ],
   "metadata": {
    "collapsed": false,
    "pycharm": {
     "name": "#%%\n"
    }
   }
  },
  {
   "cell_type": "markdown",
   "source": [
    "# Standard Linear Regression"
   ],
   "metadata": {
    "collapsed": false,
    "pycharm": {
     "name": "#%% md\n"
    }
   }
  },
  {
   "cell_type": "code",
   "execution_count": 17,
   "outputs": [],
   "source": [
    "model = LinearRegression()"
   ],
   "metadata": {
    "collapsed": false,
    "pycharm": {
     "name": "#%%\n"
    }
   }
  },
  {
   "cell_type": "code",
   "execution_count": 18,
   "outputs": [
    {
     "data": {
      "text/plain": "LinearRegression()"
     },
     "execution_count": 18,
     "metadata": {},
     "output_type": "execute_result"
    }
   ],
   "source": [
    "model.fit(x_train,y_train)"
   ],
   "metadata": {
    "collapsed": false,
    "pycharm": {
     "name": "#%%\n"
    }
   }
  },
  {
   "cell_type": "code",
   "execution_count": 19,
   "outputs": [
    {
     "data": {
      "text/plain": "     A_Lag_0  A_Lag_1  A_Lag_2  A_Lag_3  A_Lag_4  A_Lag_5  A_Lag_6  A_Lag_7  \\\n210     9.98    10.13    10.18    10.25    10.29    10.39    10.42    10.51   \n\n     A_Lag_8  A_Lag_9  ...  D_Lag_218  D_Lag_219  D_Lag_220  D_Lag_221  \\\n210    10.53    10.65  ...        0.8        0.8        0.8        0.8   \n\n     D_Lag_222  D_Lag_223  D_Lag_224  D_Lag_225  D_Lag_226  D_Lag_227  \n210        0.8        0.8        0.8        0.8        0.8        0.8  \n\n[1 rows x 912 columns]",
      "text/html": "<div>\n<style scoped>\n    .dataframe tbody tr th:only-of-type {\n        vertical-align: middle;\n    }\n\n    .dataframe tbody tr th {\n        vertical-align: top;\n    }\n\n    .dataframe thead th {\n        text-align: right;\n    }\n</style>\n<table border=\"1\" class=\"dataframe\">\n  <thead>\n    <tr style=\"text-align: right;\">\n      <th></th>\n      <th>A_Lag_0</th>\n      <th>A_Lag_1</th>\n      <th>A_Lag_2</th>\n      <th>A_Lag_3</th>\n      <th>A_Lag_4</th>\n      <th>A_Lag_5</th>\n      <th>A_Lag_6</th>\n      <th>A_Lag_7</th>\n      <th>A_Lag_8</th>\n      <th>A_Lag_9</th>\n      <th>...</th>\n      <th>D_Lag_218</th>\n      <th>D_Lag_219</th>\n      <th>D_Lag_220</th>\n      <th>D_Lag_221</th>\n      <th>D_Lag_222</th>\n      <th>D_Lag_223</th>\n      <th>D_Lag_224</th>\n      <th>D_Lag_225</th>\n      <th>D_Lag_226</th>\n      <th>D_Lag_227</th>\n    </tr>\n  </thead>\n  <tbody>\n    <tr>\n      <th>210</th>\n      <td>9.98</td>\n      <td>10.13</td>\n      <td>10.18</td>\n      <td>10.25</td>\n      <td>10.29</td>\n      <td>10.39</td>\n      <td>10.42</td>\n      <td>10.51</td>\n      <td>10.53</td>\n      <td>10.65</td>\n      <td>...</td>\n      <td>0.8</td>\n      <td>0.8</td>\n      <td>0.8</td>\n      <td>0.8</td>\n      <td>0.8</td>\n      <td>0.8</td>\n      <td>0.8</td>\n      <td>0.8</td>\n      <td>0.8</td>\n      <td>0.8</td>\n    </tr>\n  </tbody>\n</table>\n<p>1 rows × 912 columns</p>\n</div>"
     },
     "execution_count": 19,
     "metadata": {},
     "output_type": "execute_result"
    }
   ],
   "source": [
    "x_test.head(1)"
   ],
   "metadata": {
    "collapsed": false,
    "pycharm": {
     "name": "#%%\n"
    }
   }
  },
  {
   "cell_type": "code",
   "execution_count": 20,
   "outputs": [
    {
     "data": {
      "text/plain": "array([ 0.06376549,  1.34802614,  2.04229239,  3.00857132,  1.82862724,\n        2.37823513, -0.27111607,  2.07528924,  1.41630318,  1.27886853,\n        0.85474272,  2.37260139,  2.42677374,  2.53888883,  1.93535588,\n        2.1034461 ,  0.60462404,  2.29273665,  3.48088108,  3.32133931,\n        1.86992808,  2.1758557 ,  2.02423329,  2.61140297,  1.30886649,\n        2.31194298,  2.44000072,  3.16131317,  2.17072751,  0.85327412,\n        2.88173198,  0.52591332,  1.94250676,  2.25686913,  1.65091314,\n        0.81968096,  1.91683258,  1.95220243,  1.19309915,  1.1643362 ,\n        2.31822691,  2.13012283,  2.95475037,  2.07322891,  1.62795218,\n        3.65915559,  1.13108521,  2.39312342,  2.41065062,  1.5321317 ,\n        1.8173015 ,  1.39309722,  1.66363923,  1.9174176 ,  1.45480758,\n        2.12225073,  2.64699151])"
     },
     "execution_count": 20,
     "metadata": {},
     "output_type": "execute_result"
    }
   ],
   "source": [
    "model.predict(x_test)"
   ],
   "metadata": {
    "collapsed": false,
    "pycharm": {
     "name": "#%%\n"
    }
   }
  },
  {
   "cell_type": "code",
   "execution_count": 21,
   "outputs": [
    {
     "data": {
      "text/plain": "210    0.2\n133    0.8\n74     2.2\n152    3.0\n94     1.8\n36     2.6\n201    0.4\n118    2.1\n225    1.4\n174    1.6\n177    0.7\n162    2.4\n144    2.3\n86     2.2\n71     2.3\n77     2.0\n197    0.5\n142    1.9\n112    3.7\n151    2.5\n63     2.1\n83     2.3\n72     1.9\n157    2.7\n173    1.6\n159    2.6\n90     2.4\n107    3.1\n69     2.4\n2      0.9\n145    2.4\n187    0.4\n16     1.8\n26     2.2\n103    1.7\n1      0.7\n49     2.4\n56     2.1\n215    1.1\n224    1.6\n45     2.3\n13     1.9\n29     2.9\n67     2.4\n219    1.9\n111    3.3\n135    1.6\n20     2.4\n21     2.4\n227    1.3\n59     2.0\n9      1.3\n120    1.1\n92     1.8\n42     2.0\n70     2.2\n143    2.2\nName: D, dtype: float64"
     },
     "execution_count": 21,
     "metadata": {},
     "output_type": "execute_result"
    }
   ],
   "source": [
    "y_test"
   ],
   "metadata": {
    "collapsed": false,
    "pycharm": {
     "name": "#%%\n"
    }
   }
  },
  {
   "cell_type": "code",
   "execution_count": 22,
   "outputs": [
    {
     "data": {
      "text/plain": "0.848636732308932"
     },
     "execution_count": 22,
     "metadata": {},
     "output_type": "execute_result"
    }
   ],
   "source": [
    "r2_score(y_test, model.predict(x_test))"
   ],
   "metadata": {
    "collapsed": false,
    "pycharm": {
     "name": "#%%\n"
    }
   }
  },
  {
   "cell_type": "markdown",
   "source": [
    "# Regularisation"
   ],
   "metadata": {
    "collapsed": false,
    "pycharm": {
     "name": "#%% md\n"
    }
   }
  },
  {
   "cell_type": "code",
   "execution_count": 23,
   "outputs": [
    {
     "name": "stdout",
     "output_type": "stream",
     "text": [
      "Training with this many datapoints:  150\n",
      "Using regression of type:  linear regression\n",
      "Parameter for A is -0.26791548798169496\n",
      "Parameter for B is -0.3200213779444059\n",
      "Parameter for C is -0.09121595568101257\n",
      "Parameter for D is 0.14869773835233674\n",
      "Error on held out set is:  0.848636732308932\n",
      "\n",
      "\n",
      "\n",
      "Using regression of type:  Ridge regression using CV\n",
      "Trying these complexity parameter values (i.e.alphas):  [1.e-06 1.e-05 1.e-04 1.e-03 1.e-02 1.e-01 1.e+00 1.e+01 1.e+02 1.e+03\n",
      " 1.e+04 1.e+05 1.e+06]\n",
      "Using cross-validation got this value for the complexity parameter:  1.0\n",
      "Parameter for A is -0.04685581391916466\n",
      "Parameter for B is -0.04641850036966588\n",
      "Parameter for C is -0.04352565949302538\n",
      "Parameter for D is -0.013692937944353098\n",
      "Error on held out set is:  0.922144279218912\n",
      "\n",
      "\n",
      "\n",
      "Using regression of type:  Lasso regression using CV\n",
      "Trying these complexity parameter values (i.e.alphas):  [1.e-06 1.e-05 1.e-04 1.e-03 1.e-02 1.e-01 1.e+00 1.e+01 1.e+02 1.e+03\n",
      " 1.e+04 1.e+05 1.e+06]\n"
     ]
    },
    {
     "name": "stderr",
     "output_type": "stream",
     "text": [
      "G:\\anaconda\\envs\\workspace\\lib\\site-packages\\sklearn\\linear_model\\_coordinate_descent.py:647: ConvergenceWarning: Objective did not converge. You might want to increase the number of iterations, check the scale of the features or consider increasing regularisation. Duality gap: 2.102e-01, tolerance: 1.352e-02\n",
      "  model = cd_fast.enet_coordinate_descent(\n",
      "G:\\anaconda\\envs\\workspace\\lib\\site-packages\\sklearn\\linear_model\\_coordinate_descent.py:647: ConvergenceWarning: Objective did not converge. You might want to increase the number of iterations, check the scale of the features or consider increasing regularisation. Duality gap: 1.518e-01, tolerance: 1.352e-02\n",
      "  model = cd_fast.enet_coordinate_descent(\n",
      "G:\\anaconda\\envs\\workspace\\lib\\site-packages\\sklearn\\linear_model\\_coordinate_descent.py:647: ConvergenceWarning: Objective did not converge. You might want to increase the number of iterations, check the scale of the features or consider increasing regularisation. Duality gap: 3.054e-02, tolerance: 1.352e-02\n",
      "  model = cd_fast.enet_coordinate_descent(\n",
      "G:\\anaconda\\envs\\workspace\\lib\\site-packages\\sklearn\\linear_model\\_coordinate_descent.py:647: ConvergenceWarning: Objective did not converge. You might want to increase the number of iterations, check the scale of the features or consider increasing regularisation. Duality gap: 2.263e-01, tolerance: 1.299e-02\n",
      "  model = cd_fast.enet_coordinate_descent(\n",
      "G:\\anaconda\\envs\\workspace\\lib\\site-packages\\sklearn\\linear_model\\_coordinate_descent.py:647: ConvergenceWarning: Objective did not converge. You might want to increase the number of iterations, check the scale of the features or consider increasing regularisation. Duality gap: 1.539e-01, tolerance: 1.299e-02\n",
      "  model = cd_fast.enet_coordinate_descent(\n",
      "G:\\anaconda\\envs\\workspace\\lib\\site-packages\\sklearn\\linear_model\\_coordinate_descent.py:647: ConvergenceWarning: Objective did not converge. You might want to increase the number of iterations, check the scale of the features or consider increasing regularisation. Duality gap: 3.659e-02, tolerance: 1.299e-02\n",
      "  model = cd_fast.enet_coordinate_descent(\n",
      "G:\\anaconda\\envs\\workspace\\lib\\site-packages\\sklearn\\linear_model\\_coordinate_descent.py:647: ConvergenceWarning: Objective did not converge. You might want to increase the number of iterations, check the scale of the features or consider increasing regularisation. Duality gap: 1.618e-01, tolerance: 1.389e-02\n",
      "  model = cd_fast.enet_coordinate_descent(\n",
      "G:\\anaconda\\envs\\workspace\\lib\\site-packages\\sklearn\\linear_model\\_coordinate_descent.py:647: ConvergenceWarning: Objective did not converge. You might want to increase the number of iterations, check the scale of the features or consider increasing regularisation. Duality gap: 1.274e-01, tolerance: 1.389e-02\n",
      "  model = cd_fast.enet_coordinate_descent(\n",
      "G:\\anaconda\\envs\\workspace\\lib\\site-packages\\sklearn\\linear_model\\_coordinate_descent.py:647: ConvergenceWarning: Objective did not converge. You might want to increase the number of iterations, check the scale of the features or consider increasing regularisation. Duality gap: 2.127e-02, tolerance: 1.389e-02\n",
      "  model = cd_fast.enet_coordinate_descent(\n",
      "G:\\anaconda\\envs\\workspace\\lib\\site-packages\\sklearn\\linear_model\\_coordinate_descent.py:647: ConvergenceWarning: Objective did not converge. You might want to increase the number of iterations, check the scale of the features or consider increasing regularisation. Duality gap: 1.224e-01, tolerance: 1.309e-02\n",
      "  model = cd_fast.enet_coordinate_descent(\n",
      "G:\\anaconda\\envs\\workspace\\lib\\site-packages\\sklearn\\linear_model\\_coordinate_descent.py:647: ConvergenceWarning: Objective did not converge. You might want to increase the number of iterations, check the scale of the features or consider increasing regularisation. Duality gap: 1.388e-01, tolerance: 1.309e-02\n",
      "  model = cd_fast.enet_coordinate_descent(\n",
      "G:\\anaconda\\envs\\workspace\\lib\\site-packages\\sklearn\\linear_model\\_coordinate_descent.py:647: ConvergenceWarning: Objective did not converge. You might want to increase the number of iterations, check the scale of the features or consider increasing regularisation. Duality gap: 3.318e-02, tolerance: 1.309e-02\n",
      "  model = cd_fast.enet_coordinate_descent(\n",
      "G:\\anaconda\\envs\\workspace\\lib\\site-packages\\sklearn\\linear_model\\_coordinate_descent.py:647: ConvergenceWarning: Objective did not converge. You might want to increase the number of iterations, check the scale of the features or consider increasing regularisation. Duality gap: 2.259e-01, tolerance: 1.402e-02\n",
      "  model = cd_fast.enet_coordinate_descent(\n",
      "G:\\anaconda\\envs\\workspace\\lib\\site-packages\\sklearn\\linear_model\\_coordinate_descent.py:647: ConvergenceWarning: Objective did not converge. You might want to increase the number of iterations, check the scale of the features or consider increasing regularisation. Duality gap: 1.436e-01, tolerance: 1.402e-02\n",
      "  model = cd_fast.enet_coordinate_descent(\n",
      "G:\\anaconda\\envs\\workspace\\lib\\site-packages\\sklearn\\linear_model\\_coordinate_descent.py:647: ConvergenceWarning: Objective did not converge. You might want to increase the number of iterations, check the scale of the features or consider increasing regularisation. Duality gap: 3.380e-02, tolerance: 1.402e-02\n",
      "  model = cd_fast.enet_coordinate_descent(\n",
      "G:\\anaconda\\envs\\workspace\\lib\\site-packages\\sklearn\\linear_model\\_coordinate_descent.py:647: ConvergenceWarning: Objective did not converge. You might want to increase the number of iterations, check the scale of the features or consider increasing regularisation. Duality gap: 5.870e-01, tolerance: 1.689e-02\n",
      "  model = cd_fast.enet_coordinate_descent(\n"
     ]
    },
    {
     "name": "stdout",
     "output_type": "stream",
     "text": [
      "Using cross-validation got this value for the complexity parameter:  0.001\n",
      "Parameter for A is -0.0\n",
      "Parameter for B is -0.0\n",
      "Parameter for C is -0.0\n",
      "Parameter for D is -0.0\n",
      "Error on held out set is:  0.9020459479577689\n",
      "\n",
      "\n",
      "\n",
      "Training with this many datapoints:  10\n",
      "Using regression of type:  linear regression\n",
      "Parameter for A is -0.26791548798169496\n",
      "Parameter for B is -0.3200213779444059\n",
      "Parameter for C is -0.09121595568101257\n",
      "Parameter for D is 0.14869773835233674\n",
      "Error on held out set is:  0.848636732308932\n",
      "\n",
      "\n",
      "\n",
      "Using regression of type:  Ridge regression using CV\n",
      "Trying these complexity parameter values (i.e.alphas):  [1.e-06 1.e-05 1.e-04 1.e-03 1.e-02 1.e-01 1.e+00 1.e+01 1.e+02 1.e+03\n",
      " 1.e+04 1.e+05 1.e+06]\n",
      "Using cross-validation got this value for the complexity parameter:  1.0\n",
      "Parameter for A is -0.04685581391916466\n",
      "Parameter for B is -0.04641850036966588\n",
      "Parameter for C is -0.04352565949302538\n",
      "Parameter for D is -0.013692937944353098\n",
      "Error on held out set is:  0.922144279218912\n",
      "\n",
      "\n",
      "\n",
      "Using regression of type:  Lasso regression using CV\n",
      "Trying these complexity parameter values (i.e.alphas):  [1.e-06 1.e-05 1.e-04 1.e-03 1.e-02 1.e-01 1.e+00 1.e+01 1.e+02 1.e+03\n",
      " 1.e+04 1.e+05 1.e+06]\n"
     ]
    },
    {
     "name": "stderr",
     "output_type": "stream",
     "text": [
      "G:\\anaconda\\envs\\workspace\\lib\\site-packages\\sklearn\\linear_model\\_coordinate_descent.py:647: ConvergenceWarning: Objective did not converge. You might want to increase the number of iterations, check the scale of the features or consider increasing regularisation. Duality gap: 2.102e-01, tolerance: 1.352e-02\n",
      "  model = cd_fast.enet_coordinate_descent(\n",
      "G:\\anaconda\\envs\\workspace\\lib\\site-packages\\sklearn\\linear_model\\_coordinate_descent.py:647: ConvergenceWarning: Objective did not converge. You might want to increase the number of iterations, check the scale of the features or consider increasing regularisation. Duality gap: 1.518e-01, tolerance: 1.352e-02\n",
      "  model = cd_fast.enet_coordinate_descent(\n",
      "G:\\anaconda\\envs\\workspace\\lib\\site-packages\\sklearn\\linear_model\\_coordinate_descent.py:647: ConvergenceWarning: Objective did not converge. You might want to increase the number of iterations, check the scale of the features or consider increasing regularisation. Duality gap: 3.054e-02, tolerance: 1.352e-02\n",
      "  model = cd_fast.enet_coordinate_descent(\n",
      "G:\\anaconda\\envs\\workspace\\lib\\site-packages\\sklearn\\linear_model\\_coordinate_descent.py:647: ConvergenceWarning: Objective did not converge. You might want to increase the number of iterations, check the scale of the features or consider increasing regularisation. Duality gap: 2.263e-01, tolerance: 1.299e-02\n",
      "  model = cd_fast.enet_coordinate_descent(\n",
      "G:\\anaconda\\envs\\workspace\\lib\\site-packages\\sklearn\\linear_model\\_coordinate_descent.py:647: ConvergenceWarning: Objective did not converge. You might want to increase the number of iterations, check the scale of the features or consider increasing regularisation. Duality gap: 1.539e-01, tolerance: 1.299e-02\n",
      "  model = cd_fast.enet_coordinate_descent(\n",
      "G:\\anaconda\\envs\\workspace\\lib\\site-packages\\sklearn\\linear_model\\_coordinate_descent.py:647: ConvergenceWarning: Objective did not converge. You might want to increase the number of iterations, check the scale of the features or consider increasing regularisation. Duality gap: 3.659e-02, tolerance: 1.299e-02\n",
      "  model = cd_fast.enet_coordinate_descent(\n",
      "G:\\anaconda\\envs\\workspace\\lib\\site-packages\\sklearn\\linear_model\\_coordinate_descent.py:647: ConvergenceWarning: Objective did not converge. You might want to increase the number of iterations, check the scale of the features or consider increasing regularisation. Duality gap: 1.618e-01, tolerance: 1.389e-02\n",
      "  model = cd_fast.enet_coordinate_descent(\n",
      "G:\\anaconda\\envs\\workspace\\lib\\site-packages\\sklearn\\linear_model\\_coordinate_descent.py:647: ConvergenceWarning: Objective did not converge. You might want to increase the number of iterations, check the scale of the features or consider increasing regularisation. Duality gap: 1.274e-01, tolerance: 1.389e-02\n",
      "  model = cd_fast.enet_coordinate_descent(\n",
      "G:\\anaconda\\envs\\workspace\\lib\\site-packages\\sklearn\\linear_model\\_coordinate_descent.py:647: ConvergenceWarning: Objective did not converge. You might want to increase the number of iterations, check the scale of the features or consider increasing regularisation. Duality gap: 2.127e-02, tolerance: 1.389e-02\n",
      "  model = cd_fast.enet_coordinate_descent(\n",
      "G:\\anaconda\\envs\\workspace\\lib\\site-packages\\sklearn\\linear_model\\_coordinate_descent.py:647: ConvergenceWarning: Objective did not converge. You might want to increase the number of iterations, check the scale of the features or consider increasing regularisation. Duality gap: 1.224e-01, tolerance: 1.309e-02\n",
      "  model = cd_fast.enet_coordinate_descent(\n",
      "G:\\anaconda\\envs\\workspace\\lib\\site-packages\\sklearn\\linear_model\\_coordinate_descent.py:647: ConvergenceWarning: Objective did not converge. You might want to increase the number of iterations, check the scale of the features or consider increasing regularisation. Duality gap: 1.388e-01, tolerance: 1.309e-02\n",
      "  model = cd_fast.enet_coordinate_descent(\n",
      "G:\\anaconda\\envs\\workspace\\lib\\site-packages\\sklearn\\linear_model\\_coordinate_descent.py:647: ConvergenceWarning: Objective did not converge. You might want to increase the number of iterations, check the scale of the features or consider increasing regularisation. Duality gap: 3.318e-02, tolerance: 1.309e-02\n",
      "  model = cd_fast.enet_coordinate_descent(\n",
      "G:\\anaconda\\envs\\workspace\\lib\\site-packages\\sklearn\\linear_model\\_coordinate_descent.py:647: ConvergenceWarning: Objective did not converge. You might want to increase the number of iterations, check the scale of the features or consider increasing regularisation. Duality gap: 2.259e-01, tolerance: 1.402e-02\n",
      "  model = cd_fast.enet_coordinate_descent(\n",
      "G:\\anaconda\\envs\\workspace\\lib\\site-packages\\sklearn\\linear_model\\_coordinate_descent.py:647: ConvergenceWarning: Objective did not converge. You might want to increase the number of iterations, check the scale of the features or consider increasing regularisation. Duality gap: 1.436e-01, tolerance: 1.402e-02\n",
      "  model = cd_fast.enet_coordinate_descent(\n",
      "G:\\anaconda\\envs\\workspace\\lib\\site-packages\\sklearn\\linear_model\\_coordinate_descent.py:647: ConvergenceWarning: Objective did not converge. You might want to increase the number of iterations, check the scale of the features or consider increasing regularisation. Duality gap: 3.380e-02, tolerance: 1.402e-02\n",
      "  model = cd_fast.enet_coordinate_descent(\n"
     ]
    },
    {
     "name": "stdout",
     "output_type": "stream",
     "text": [
      "Using cross-validation got this value for the complexity parameter:  0.001\n",
      "Parameter for A is -0.0\n",
      "Parameter for B is -0.0\n",
      "Parameter for C is -0.0\n",
      "Parameter for D is -0.0\n",
      "Error on held out set is:  0.9020459479577689\n",
      "\n",
      "\n",
      "\n"
     ]
    },
    {
     "name": "stderr",
     "output_type": "stream",
     "text": [
      "G:\\anaconda\\envs\\workspace\\lib\\site-packages\\sklearn\\linear_model\\_coordinate_descent.py:647: ConvergenceWarning: Objective did not converge. You might want to increase the number of iterations, check the scale of the features or consider increasing regularisation. Duality gap: 5.870e-01, tolerance: 1.689e-02\n",
      "  model = cd_fast.enet_coordinate_descent(\n"
     ]
    }
   ],
   "source": [
    "myalphas = np.logspace(-6, 6, 13)\n",
    "train_sizes = 150, 10\n",
    "\n",
    "models = LinearRegression, RidgeCV, LassoCV\n",
    "model_names = 'linear regression', 'Ridge regression using CV', 'Lasso regression using CV'\n",
    "\n",
    "for train_size in train_sizes:\n",
    "    print('Training with this many datapoints: ', train_size)\n",
    "    for i, model in enumerate(models):\n",
    "        print('Using regression of type: ', model_names[i])\n",
    "        if model == LinearRegression:\n",
    "            reg = model()\n",
    "        else:\n",
    "            print('Trying these complexity parameter values (i.e.alphas): ', myalphas)\n",
    "            reg = model(alphas=myalphas)\n",
    "        reg.fit(x_train,y_train)\n",
    "\n",
    "        if model != LinearRegression:\n",
    "            print('Using cross-validation got this value for the complexity parameter: ', reg.alpha_)\n",
    "        for i, name in enumerate([\"A\",\"B\",\"C\",\"D\"]):\n",
    "            print('Parameter for {0} is {1}'.format(name,reg.coef_[i]))\n",
    "\n",
    "        print('Error on held out set is: ', reg.score(x_test,y_test))\n",
    "        print('\\n\\n')"
   ],
   "metadata": {
    "collapsed": false,
    "pycharm": {
     "name": "#%%\n"
    }
   }
  },
  {
   "cell_type": "markdown",
   "source": [
    "# Polynomial Regression"
   ],
   "metadata": {
    "collapsed": false,
    "pycharm": {
     "name": "#%% md\n"
    }
   }
  },
  {
   "cell_type": "code",
   "execution_count": 24,
   "outputs": [
    {
     "data": {
      "text/plain": "     A_Lag_0  B_Lag_0  C_Lag_0  D_Lag_0\n0      10.07     2.18      3.0      0.8\n1      10.00     2.20      3.0      0.8\n2       9.95     2.21      3.0      0.7\n3       9.93     2.30      2.5      0.9\n4       9.88     2.30      2.5      1.1\n..       ...      ...      ...      ...\n223     8.98     3.00      0.0      1.3\n224     8.91     3.10      0.0      1.5\n225     8.80     3.20      0.0      1.6\n226     8.73     3.10      0.0      1.4\n227     8.70     3.00      0.0      1.5\n\n[228 rows x 4 columns]",
      "text/html": "<div>\n<style scoped>\n    .dataframe tbody tr th:only-of-type {\n        vertical-align: middle;\n    }\n\n    .dataframe tbody tr th {\n        vertical-align: top;\n    }\n\n    .dataframe thead th {\n        text-align: right;\n    }\n</style>\n<table border=\"1\" class=\"dataframe\">\n  <thead>\n    <tr style=\"text-align: right;\">\n      <th></th>\n      <th>A_Lag_0</th>\n      <th>B_Lag_0</th>\n      <th>C_Lag_0</th>\n      <th>D_Lag_0</th>\n    </tr>\n  </thead>\n  <tbody>\n    <tr>\n      <th>0</th>\n      <td>10.07</td>\n      <td>2.18</td>\n      <td>3.0</td>\n      <td>0.8</td>\n    </tr>\n    <tr>\n      <th>1</th>\n      <td>10.00</td>\n      <td>2.20</td>\n      <td>3.0</td>\n      <td>0.8</td>\n    </tr>\n    <tr>\n      <th>2</th>\n      <td>9.95</td>\n      <td>2.21</td>\n      <td>3.0</td>\n      <td>0.7</td>\n    </tr>\n    <tr>\n      <th>3</th>\n      <td>9.93</td>\n      <td>2.30</td>\n      <td>2.5</td>\n      <td>0.9</td>\n    </tr>\n    <tr>\n      <th>4</th>\n      <td>9.88</td>\n      <td>2.30</td>\n      <td>2.5</td>\n      <td>1.1</td>\n    </tr>\n    <tr>\n      <th>...</th>\n      <td>...</td>\n      <td>...</td>\n      <td>...</td>\n      <td>...</td>\n    </tr>\n    <tr>\n      <th>223</th>\n      <td>8.98</td>\n      <td>3.00</td>\n      <td>0.0</td>\n      <td>1.3</td>\n    </tr>\n    <tr>\n      <th>224</th>\n      <td>8.91</td>\n      <td>3.10</td>\n      <td>0.0</td>\n      <td>1.5</td>\n    </tr>\n    <tr>\n      <th>225</th>\n      <td>8.80</td>\n      <td>3.20</td>\n      <td>0.0</td>\n      <td>1.6</td>\n    </tr>\n    <tr>\n      <th>226</th>\n      <td>8.73</td>\n      <td>3.10</td>\n      <td>0.0</td>\n      <td>1.4</td>\n    </tr>\n    <tr>\n      <th>227</th>\n      <td>8.70</td>\n      <td>3.00</td>\n      <td>0.0</td>\n      <td>1.5</td>\n    </tr>\n  </tbody>\n</table>\n<p>228 rows × 4 columns</p>\n</div>"
     },
     "execution_count": 24,
     "metadata": {},
     "output_type": "execute_result"
    }
   ],
   "source": [
    "df[[\"A_Lag_0\",\"B_Lag_0\",\"C_Lag_0\",\"D_Lag_0\"]]"
   ],
   "metadata": {
    "collapsed": false,
    "pycharm": {
     "name": "#%%\n"
    }
   }
  },
  {
   "cell_type": "code",
   "execution_count": 25,
   "outputs": [
    {
     "data": {
      "text/plain": "     A_Lag_0  B_Lag_0  C_Lag_0  D_Lag_0\n210     9.98      1.7      0.0      0.0",
      "text/html": "<div>\n<style scoped>\n    .dataframe tbody tr th:only-of-type {\n        vertical-align: middle;\n    }\n\n    .dataframe tbody tr th {\n        vertical-align: top;\n    }\n\n    .dataframe thead th {\n        text-align: right;\n    }\n</style>\n<table border=\"1\" class=\"dataframe\">\n  <thead>\n    <tr style=\"text-align: right;\">\n      <th></th>\n      <th>A_Lag_0</th>\n      <th>B_Lag_0</th>\n      <th>C_Lag_0</th>\n      <th>D_Lag_0</th>\n    </tr>\n  </thead>\n  <tbody>\n    <tr>\n      <th>210</th>\n      <td>9.98</td>\n      <td>1.7</td>\n      <td>0.0</td>\n      <td>0.0</td>\n    </tr>\n  </tbody>\n</table>\n</div>"
     },
     "execution_count": 25,
     "metadata": {},
     "output_type": "execute_result"
    }
   ],
   "source": [
    "x_test[[\"A_Lag_0\",\"B_Lag_0\",\"C_Lag_0\",\"D_Lag_0\"]].head(1)"
   ],
   "metadata": {
    "collapsed": false,
    "pycharm": {
     "name": "#%%\n"
    }
   }
  },
  {
   "cell_type": "code",
   "execution_count": 26,
   "outputs": [
    {
     "data": {
      "text/plain": "210    0.2\n133    0.8\n74     2.2\n152    3.0\n94     1.8\n36     2.6\n201    0.4\n118    2.1\n225    1.4\n174    1.6\n177    0.7\n162    2.4\n144    2.3\n86     2.2\n71     2.3\n77     2.0\n197    0.5\n142    1.9\n112    3.7\n151    2.5\n63     2.1\n83     2.3\n72     1.9\n157    2.7\n173    1.6\n159    2.6\n90     2.4\n107    3.1\n69     2.4\n2      0.9\n145    2.4\n187    0.4\n16     1.8\n26     2.2\n103    1.7\n1      0.7\n49     2.4\n56     2.1\n215    1.1\n224    1.6\n45     2.3\n13     1.9\n29     2.9\n67     2.4\n219    1.9\n111    3.3\n135    1.6\n20     2.4\n21     2.4\n227    1.3\n59     2.0\n9      1.3\n120    1.1\n92     1.8\n42     2.0\n70     2.2\n143    2.2\nName: D, dtype: float64"
     },
     "execution_count": 26,
     "metadata": {},
     "output_type": "execute_result"
    }
   ],
   "source": [
    "y_test"
   ],
   "metadata": {
    "collapsed": false,
    "pycharm": {
     "name": "#%%\n"
    }
   }
  },
  {
   "cell_type": "code",
   "execution_count": 27,
   "outputs": [],
   "source": [
    "\n",
    "# polynomial features\n",
    "\n",
    "# Pipeline: creates a pipeline of transforms with a final estimator.\n",
    "model = make_pipeline(PolynomialFeatures(3),Ridge(alpha=0.1))\n",
    "model.fit(x_train[[\"A_Lag_0\",\"B_Lag_0\",\"C_Lag_0\",\"D_Lag_0\"]], y_train)\n",
    "y_plot = model.predict(x_test[[\"A_Lag_0\",\"B_Lag_0\",\"C_Lag_0\",\"D_Lag_0\"]])"
   ],
   "metadata": {
    "collapsed": false,
    "pycharm": {
     "name": "#%%\n"
    }
   }
  },
  {
   "cell_type": "code",
   "execution_count": 28,
   "outputs": [
    {
     "data": {
      "text/plain": "0.8831031884739573"
     },
     "execution_count": 28,
     "metadata": {},
     "output_type": "execute_result"
    }
   ],
   "source": [
    "r2_score(y_test, model.predict(x_test[[\"A_Lag_0\",\"B_Lag_0\",\"C_Lag_0\",\"D_Lag_0\"]]))"
   ],
   "metadata": {
    "collapsed": false,
    "pycharm": {
     "name": "#%%\n"
    }
   }
  },
  {
   "cell_type": "markdown",
   "source": [
    "# Piecewise Regression"
   ],
   "metadata": {
    "collapsed": false,
    "pycharm": {
     "name": "#%% md\n"
    }
   },
   "outputs": [],
   "execution_count": 1
  },
  {
   "cell_type": "code",
   "execution_count": 29,
   "outputs": [],
   "source": [
    "ramp = lambda u: np.maximum( u, 0 )\n",
    "step = lambda u: ( u > 0 ).astype(float)"
   ],
   "metadata": {
    "collapsed": false,
    "pycharm": {
     "name": "#%%\n"
    }
   }
  },
  {
   "cell_type": "code",
   "execution_count": 30,
   "outputs": [],
   "source": [
    "def SegmentedLinearReg( X, Y, breakpoints ):\n",
    "    nIterationMax = 10\n",
    "\n",
    "    breakpoints = np.sort( np.array(breakpoints) )\n",
    "\n",
    "    dt = np.min( np.diff(X) )\n",
    "    ones = np.ones_like(X)\n",
    "\n",
    "    for i in range( nIterationMax ):\n",
    "        # Linear regression:  solve A*p = Y\n",
    "        Rk = [ramp( X - xk ) for xk in breakpoints ]\n",
    "        Sk = [step( X - xk ) for xk in breakpoints ]\n",
    "        A = np.array([ ones, X ] + Rk + Sk )\n",
    "        p =  lstsq(A.transpose(), Y, rcond=None)[0]\n",
    "\n",
    "        # Parameters identification:\n",
    "        a, b = p[0:2]\n",
    "        ck = p[ 2:2+len(breakpoints) ]\n",
    "        dk = p[ 2+len(breakpoints): ]\n",
    "\n",
    "        # Estimation of the next break-points:\n",
    "        newBreakpoints = breakpoints - dk/ck\n",
    "\n",
    "        # Stop condition\n",
    "        if np.max(np.abs(newBreakpoints - breakpoints)) < dt/5:\n",
    "            break\n",
    "\n",
    "        breakpoints = newBreakpoints\n",
    "    else:\n",
    "        print( 'maximum iteration reached' )\n",
    "\n",
    "    # Compute the final segmented fit:\n",
    "    Xsolution = np.insert( np.append( breakpoints, max(X) ), 0, min(X) )\n",
    "    ones =  np.ones_like(Xsolution)\n",
    "    Rk = [ c*ramp( Xsolution - x0 ) for x0, c in zip(breakpoints, ck) ]\n",
    "\n",
    "    Ysolution = a*ones + b*Xsolution + np.sum( Rk, axis=0 )\n",
    "\n",
    "    return Xsolution, Ysolution"
   ],
   "metadata": {
    "collapsed": false,
    "pycharm": {
     "name": "#%%\n"
    }
   }
  },
  {
   "cell_type": "code",
   "execution_count": 31,
   "outputs": [
    {
     "data": {
      "text/plain": "<Figure size 432x288 with 1 Axes>",
      "image/png": "[encoded data removed]"
     },
     "metadata": {
      "needs_background": "light"
     },
     "output_type": "display_data"
    }
   ],
   "source": [
    "X = np.linspace( 0, 10, 27 )\n",
    "Y = 0.2*X  - 0.3* ramp(X-2) + 0.3*ramp(X-6) + 0.05*np.random.randn(len(X))\n",
    "plt.plot( X, Y, 'ok' );\n",
    "\n",
    "initialBreakpoints = [1,7]\n",
    "#Try also with 3 breakpoints, e.g. [3,5,6]\n",
    "plt.plot( *SegmentedLinearReg( X, Y, initialBreakpoints ), '-r' );\n",
    "plt.xlabel('X'); plt.ylabel('Y');"
   ],
   "metadata": {
    "collapsed": false,
    "pycharm": {
     "name": "#%%\n"
    }
   }
  }
 ],
 "metadata": {
  "kernelspec": {
   "display_name": "Python 3",
   "language": "python",
   "name": "python3"
  },
  "language_info": {
   "codemirror_mode": {
    "name": "ipython",
    "version": 2
   },
   "file_extension": ".py",
   "mimetype": "text/x-python",
   "name": "python",
   "nbconvert_exporter": "python",
   "pygments_lexer": "ipython2",
   "version": "2.7.6"
  }
 },
 "nbformat": 4,
 "nbformat_minor": 0
}