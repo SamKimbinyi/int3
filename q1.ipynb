{
 "cells": [
  {
   "cell_type": "code",
   "execution_count": 111,
   "metadata": {
    "collapsed": true
   },
   "outputs": [],
   "source": [
    "import pandas as pd\n",
    "import matplotlib.pyplot as plt\n",
    "import numpy as np\n",
    "from sklearn.linear_model import LinearRegression\n",
    "from sklearn.linear_model import RidgeCV, LinearRegression, LassoCV\n",
    "from sklearn.model_selection import train_test_split\n",
    "from sklearn.metrics import r2_score"
   ]
  },
  {
   "cell_type": "code",
   "execution_count": 97,
   "outputs": [],
   "source": [
    "df = pd.read_csv(\"data.csv\")"
   ],
   "metadata": {
    "collapsed": false,
    "pycharm": {
     "name": "#%%\n"
    }
   }
  },
  {
   "cell_type": "code",
   "execution_count": 98,
   "outputs": [],
   "source": [
    "df[\"Target\"] = df[\"D\"]"
   ],
   "metadata": {
    "collapsed": false,
    "pycharm": {
     "name": "#%%\n"
    }
   }
  },
  {
   "cell_type": "code",
   "execution_count": 99,
   "outputs": [],
   "source": [
    "df[\"Target\"] = df[\"Target\"].shift(-1)"
   ],
   "metadata": {
    "collapsed": false,
    "pycharm": {
     "name": "#%%\n"
    }
   }
  },
  {
   "cell_type": "code",
   "execution_count": 100,
   "outputs": [],
   "source": [
    "df = df.dropna()"
   ],
   "metadata": {
    "collapsed": false,
    "pycharm": {
     "name": "#%%\n"
    }
   }
  },
  {
   "cell_type": "code",
   "execution_count": 101,
   "outputs": [
    {
     "data": {
      "text/plain": "         A     B    C    D\n0    10.07  2.18  3.0  0.8\n1    10.00  2.20  3.0  0.7\n2     9.95  2.21  3.0  0.9\n3     9.93  2.30  2.5  1.1\n4     9.88  2.30  2.5  0.9\n..     ...   ...  ...  ...\n222   9.04  2.90  0.0  1.3\n223   8.98  3.00  0.0  1.5\n224   8.91  3.10  0.0  1.6\n225   8.80  3.20  0.0  1.4\n226   8.73  3.10  0.0  1.5\n\n[227 rows x 4 columns]",
      "text/html": "<div>\n<style scoped>\n    .dataframe tbody tr th:only-of-type {\n        vertical-align: middle;\n    }\n\n    .dataframe tbody tr th {\n        vertical-align: top;\n    }\n\n    .dataframe thead th {\n        text-align: right;\n    }\n</style>\n<table border=\"1\" class=\"dataframe\">\n  <thead>\n    <tr style=\"text-align: right;\">\n      <th></th>\n      <th>A</th>\n      <th>B</th>\n      <th>C</th>\n      <th>D</th>\n    </tr>\n  </thead>\n  <tbody>\n    <tr>\n      <th>0</th>\n      <td>10.07</td>\n      <td>2.18</td>\n      <td>3.0</td>\n      <td>0.8</td>\n    </tr>\n    <tr>\n      <th>1</th>\n      <td>10.00</td>\n      <td>2.20</td>\n      <td>3.0</td>\n      <td>0.7</td>\n    </tr>\n    <tr>\n      <th>2</th>\n      <td>9.95</td>\n      <td>2.21</td>\n      <td>3.0</td>\n      <td>0.9</td>\n    </tr>\n    <tr>\n      <th>3</th>\n      <td>9.93</td>\n      <td>2.30</td>\n      <td>2.5</td>\n      <td>1.1</td>\n    </tr>\n    <tr>\n      <th>4</th>\n      <td>9.88</td>\n      <td>2.30</td>\n      <td>2.5</td>\n      <td>0.9</td>\n    </tr>\n    <tr>\n      <th>...</th>\n      <td>...</td>\n      <td>...</td>\n      <td>...</td>\n      <td>...</td>\n    </tr>\n    <tr>\n      <th>222</th>\n      <td>9.04</td>\n      <td>2.90</td>\n      <td>0.0</td>\n      <td>1.3</td>\n    </tr>\n    <tr>\n      <th>223</th>\n      <td>8.98</td>\n      <td>3.00</td>\n      <td>0.0</td>\n      <td>1.5</td>\n    </tr>\n    <tr>\n      <th>224</th>\n      <td>8.91</td>\n      <td>3.10</td>\n      <td>0.0</td>\n      <td>1.6</td>\n    </tr>\n    <tr>\n      <th>225</th>\n      <td>8.80</td>\n      <td>3.20</td>\n      <td>0.0</td>\n      <td>1.4</td>\n    </tr>\n    <tr>\n      <th>226</th>\n      <td>8.73</td>\n      <td>3.10</td>\n      <td>0.0</td>\n      <td>1.5</td>\n    </tr>\n  </tbody>\n</table>\n<p>227 rows × 4 columns</p>\n</div>"
     },
     "execution_count": 101,
     "metadata": {},
     "output_type": "execute_result"
    }
   ],
   "source": [
    "df.iloc[:,:-1]"
   ],
   "metadata": {
    "collapsed": false,
    "pycharm": {
     "name": "#%%\n"
    }
   }
  },
  {
   "cell_type": "code",
   "execution_count": 102,
   "outputs": [],
   "source": [
    "x_train, x_test, y_train, y_test = train_test_split(df.iloc[:,:-1],df[\"Target\"])"
   ],
   "metadata": {
    "collapsed": false,
    "pycharm": {
     "name": "#%%\n"
    }
   }
  },
  {
   "cell_type": "code",
   "execution_count": 103,
   "outputs": [
    {
     "data": {
      "text/plain": "         A     B     C    D\n85    8.81  2.90  2.25  2.4\n38    8.49  0.60  3.25  2.5\n34    8.47  1.30  3.25  2.0\n40    8.58  0.90  3.25  2.1\n5     9.84  2.31  2.50  0.9\n..     ...   ...   ...  ...\n123   9.52 -5.50  1.25  0.6\n195  11.11  1.90  0.05  0.2\n119   8.36 -2.50  2.50  1.6\n166  11.91 -1.00  0.75  2.2\n141  10.26  2.40  1.00  1.9\n\n[170 rows x 4 columns]",
      "text/html": "<div>\n<style scoped>\n    .dataframe tbody tr th:only-of-type {\n        vertical-align: middle;\n    }\n\n    .dataframe tbody tr th {\n        vertical-align: top;\n    }\n\n    .dataframe thead th {\n        text-align: right;\n    }\n</style>\n<table border=\"1\" class=\"dataframe\">\n  <thead>\n    <tr style=\"text-align: right;\">\n      <th></th>\n      <th>A</th>\n      <th>B</th>\n      <th>C</th>\n      <th>D</th>\n    </tr>\n  </thead>\n  <tbody>\n    <tr>\n      <th>85</th>\n      <td>8.81</td>\n      <td>2.90</td>\n      <td>2.25</td>\n      <td>2.4</td>\n    </tr>\n    <tr>\n      <th>38</th>\n      <td>8.49</td>\n      <td>0.60</td>\n      <td>3.25</td>\n      <td>2.5</td>\n    </tr>\n    <tr>\n      <th>34</th>\n      <td>8.47</td>\n      <td>1.30</td>\n      <td>3.25</td>\n      <td>2.0</td>\n    </tr>\n    <tr>\n      <th>40</th>\n      <td>8.58</td>\n      <td>0.90</td>\n      <td>3.25</td>\n      <td>2.1</td>\n    </tr>\n    <tr>\n      <th>5</th>\n      <td>9.84</td>\n      <td>2.31</td>\n      <td>2.50</td>\n      <td>0.9</td>\n    </tr>\n    <tr>\n      <th>...</th>\n      <td>...</td>\n      <td>...</td>\n      <td>...</td>\n      <td>...</td>\n    </tr>\n    <tr>\n      <th>123</th>\n      <td>9.52</td>\n      <td>-5.50</td>\n      <td>1.25</td>\n      <td>0.6</td>\n    </tr>\n    <tr>\n      <th>195</th>\n      <td>11.11</td>\n      <td>1.90</td>\n      <td>0.05</td>\n      <td>0.2</td>\n    </tr>\n    <tr>\n      <th>119</th>\n      <td>8.36</td>\n      <td>-2.50</td>\n      <td>2.50</td>\n      <td>1.6</td>\n    </tr>\n    <tr>\n      <th>166</th>\n      <td>11.91</td>\n      <td>-1.00</td>\n      <td>0.75</td>\n      <td>2.2</td>\n    </tr>\n    <tr>\n      <th>141</th>\n      <td>10.26</td>\n      <td>2.40</td>\n      <td>1.00</td>\n      <td>1.9</td>\n    </tr>\n  </tbody>\n</table>\n<p>170 rows × 4 columns</p>\n</div>"
     },
     "execution_count": 103,
     "metadata": {},
     "output_type": "execute_result"
    }
   ],
   "source": [
    "x_train"
   ],
   "metadata": {
    "collapsed": false,
    "pycharm": {
     "name": "#%%\n"
    }
   }
  },
  {
   "cell_type": "code",
   "execution_count": 104,
   "outputs": [
    {
     "data": {
      "text/plain": "<Figure size 432x288 with 1 Axes>",
      "image/png": "[encoded data removed]"
     },
     "metadata": {
      "needs_background": "light"
     },
     "output_type": "display_data"
    }
   ],
   "source": [
    "x = np.array([i for i in range(len(df))])\n",
    "\n",
    "\n",
    "plt.plot(x,df[\"A\"], label = \"A\")\n",
    "plt.plot(x,df[\"B\"] , label = \"B\")\n",
    "plt.plot(x,df[\"C\"], label = \"C\")\n",
    "plt.plot(x,df[\"D\"], label = \"D\")\n",
    "plt.legend()\n",
    "plt.show()"
   ],
   "metadata": {
    "collapsed": false,
    "pycharm": {
     "name": "#%%\n"
    }
   }
  },
  {
   "cell_type": "markdown",
   "source": [
    "# Standard Linear Regression"
   ],
   "metadata": {
    "collapsed": false,
    "pycharm": {
     "name": "#%% md\n"
    }
   }
  },
  {
   "cell_type": "code",
   "execution_count": 105,
   "outputs": [],
   "source": [
    "model = LinearRegression()"
   ],
   "metadata": {
    "collapsed": false,
    "pycharm": {
     "name": "#%%\n"
    }
   }
  },
  {
   "cell_type": "code",
   "execution_count": 106,
   "outputs": [
    {
     "data": {
      "text/plain": "LinearRegression()"
     },
     "execution_count": 106,
     "metadata": {},
     "output_type": "execute_result"
    }
   ],
   "source": [
    "model.fit(x_train,y_train)"
   ],
   "metadata": {
    "collapsed": false,
    "pycharm": {
     "name": "#%%\n"
    }
   }
  },
  {
   "cell_type": "code",
   "execution_count": 107,
   "outputs": [
    {
     "data": {
      "text/plain": "       A    B    C    D\n66  9.25  2.2  2.0  2.3",
      "text/html": "<div>\n<style scoped>\n    .dataframe tbody tr th:only-of-type {\n        vertical-align: middle;\n    }\n\n    .dataframe tbody tr th {\n        vertical-align: top;\n    }\n\n    .dataframe thead th {\n        text-align: right;\n    }\n</style>\n<table border=\"1\" class=\"dataframe\">\n  <thead>\n    <tr style=\"text-align: right;\">\n      <th></th>\n      <th>A</th>\n      <th>B</th>\n      <th>C</th>\n      <th>D</th>\n    </tr>\n  </thead>\n  <tbody>\n    <tr>\n      <th>66</th>\n      <td>9.25</td>\n      <td>2.2</td>\n      <td>2.0</td>\n      <td>2.3</td>\n    </tr>\n  </tbody>\n</table>\n</div>"
     },
     "execution_count": 107,
     "metadata": {},
     "output_type": "execute_result"
    }
   ],
   "source": [
    "x_test.head(1)"
   ],
   "metadata": {
    "collapsed": false,
    "pycharm": {
     "name": "#%%\n"
    }
   }
  },
  {
   "cell_type": "code",
   "execution_count": 108,
   "outputs": [
    {
     "data": {
      "text/plain": "array([ 2.29432095,  1.90180827,  0.40484564,  2.39513335,  2.64448837,\n        1.54930263,  2.43149129,  2.53501582,  3.05392583, -0.67219474,\n        1.38910275,  2.09930143,  2.33775974,  2.68727922,  1.98197585,\n        2.06210995,  0.83347795,  2.26178918,  2.48244214,  3.21317086,\n        1.38497209,  1.28972427,  1.89016344,  0.40378103,  0.74411123,\n        1.72720806,  1.67844769,  2.25420525,  3.00093987,  2.56950903,\n        0.59579517,  0.02276425,  1.94879997,  1.0941133 ,  2.05288844,\n        2.05769029,  3.06664521,  2.18182631,  1.85919667,  0.11861795,\n        3.06263283,  2.07515875,  0.88059433, -0.46155207,  0.49562237,\n        0.67764899,  1.97496376,  1.87453417,  2.30180255,  3.76152663,\n        0.43661388,  2.90977755, -0.38675335,  1.91563774,  0.3733097 ,\n        1.97917728,  0.97549684])"
     },
     "execution_count": 108,
     "metadata": {},
     "output_type": "execute_result"
    }
   ],
   "source": [
    "model.predict(x_test)"
   ],
   "metadata": {
    "collapsed": false,
    "pycharm": {
     "name": "#%%\n"
    }
   }
  },
  {
   "cell_type": "code",
   "execution_count": 109,
   "outputs": [
    {
     "data": {
      "text/plain": "0.9345648446169303"
     },
     "execution_count": 109,
     "metadata": {},
     "output_type": "execute_result"
    }
   ],
   "source": [
    "r2_score(y_test, model.predict(x_test))"
   ],
   "metadata": {
    "collapsed": false,
    "pycharm": {
     "name": "#%%\n"
    }
   }
  },
  {
   "cell_type": "markdown",
   "source": [
    "# Regularisation"
   ],
   "metadata": {
    "collapsed": false,
    "pycharm": {
     "name": "#%% md\n"
    }
   }
  },
  {
   "cell_type": "code",
   "execution_count": 115,
   "outputs": [
    {
     "name": "stdout",
     "output_type": "stream",
     "text": [
      "Training with this many datapoints:  150\n",
      "Using regression of type:  linear regression\n",
      "Parameter for A is -0.011828950506621035\n",
      "Parameter for B is 0.03657504102496643\n",
      "Parameter for C is -0.0008345407969072093\n",
      "Parameter for D is 0.9349738936205683\n",
      "Error on held out set is:  0.9345648446169303\n",
      "\n",
      "\n",
      "\n",
      "Using regression of type:  Ridge regression using CV\n",
      "Trying these complexity parameter values (i.e.alphas):  [1.e-06 1.e-05 1.e-04 1.e-03 1.e-02 1.e-01 1.e+00 1.e+01 1.e+02 1.e+03\n",
      " 1.e+04 1.e+05 1.e+06]\n",
      "Using cross-validation got this value for the complexity parameter:  0.1\n",
      "Parameter for A is -0.0118477268673427\n",
      "Parameter for B is 0.036570426520601274\n",
      "Parameter for C is -0.00045851140292541004\n",
      "Parameter for D is 0.9339504132543555\n",
      "Error on held out set is:  0.9345551898740831\n",
      "\n",
      "\n",
      "\n",
      "Using regression of type:  Lasso regression using CV\n",
      "Trying these complexity parameter values (i.e.alphas):  [1.e-06 1.e-05 1.e-04 1.e-03 1.e-02 1.e-01 1.e+00 1.e+01 1.e+02 1.e+03\n",
      " 1.e+04 1.e+05 1.e+06]\n",
      "Using cross-validation got this value for the complexity parameter:  0.01\n",
      "Parameter for A is -0.007676379700144134\n",
      "Parameter for B is 0.03498631922230476\n",
      "Parameter for C is 0.0021123607296925045\n",
      "Parameter for D is 0.92356693861147\n",
      "Error on held out set is:  0.9341133186523858\n",
      "\n",
      "\n",
      "\n",
      "Training with this many datapoints:  10\n",
      "Using regression of type:  linear regression\n",
      "Parameter for A is -0.011828950506621035\n",
      "Parameter for B is 0.03657504102496643\n",
      "Parameter for C is -0.0008345407969072093\n",
      "Parameter for D is 0.9349738936205683\n",
      "Error on held out set is:  0.9345648446169303\n",
      "\n",
      "\n",
      "\n",
      "Using regression of type:  Ridge regression using CV\n",
      "Trying these complexity parameter values (i.e.alphas):  [1.e-06 1.e-05 1.e-04 1.e-03 1.e-02 1.e-01 1.e+00 1.e+01 1.e+02 1.e+03\n",
      " 1.e+04 1.e+05 1.e+06]\n",
      "Using cross-validation got this value for the complexity parameter:  0.1\n",
      "Parameter for A is -0.0118477268673427\n",
      "Parameter for B is 0.036570426520601274\n",
      "Parameter for C is -0.00045851140292541004\n",
      "Parameter for D is 0.9339504132543555\n",
      "Error on held out set is:  0.9345551898740831\n",
      "\n",
      "\n",
      "\n",
      "Using regression of type:  Lasso regression using CV\n",
      "Trying these complexity parameter values (i.e.alphas):  [1.e-06 1.e-05 1.e-04 1.e-03 1.e-02 1.e-01 1.e+00 1.e+01 1.e+02 1.e+03\n",
      " 1.e+04 1.e+05 1.e+06]\n",
      "Using cross-validation got this value for the complexity parameter:  0.01\n",
      "Parameter for A is -0.007676379700144134\n",
      "Parameter for B is 0.03498631922230476\n",
      "Parameter for C is 0.0021123607296925045\n",
      "Parameter for D is 0.92356693861147\n",
      "Error on held out set is:  0.9341133186523858\n",
      "\n",
      "\n",
      "\n"
     ]
    }
   ],
   "source": [
    "myalphas = np.logspace(-6, 6, 13)\n",
    "train_sizes = 150, 10\n",
    "\n",
    "models = LinearRegression, RidgeCV, LassoCV\n",
    "model_names = 'linear regression', 'Ridge regression using CV', 'Lasso regression using CV'\n",
    "\n",
    "for train_size in train_sizes:\n",
    "    print('Training with this many datapoints: ', train_size)\n",
    "    for i, model in enumerate(models):\n",
    "        print('Using regression of type: ', model_names[i])\n",
    "        if model == LinearRegression:\n",
    "            reg = model()\n",
    "        else:\n",
    "            print('Trying these complexity parameter values (i.e.alphas): ', myalphas)\n",
    "            reg = model(alphas=myalphas)\n",
    "        reg.fit(x_train,y_train)\n",
    "\n",
    "        if model != LinearRegression:\n",
    "            print('Using cross-validation got this value for the complexity parameter: ', reg.alpha_)\n",
    "        for i, name in enumerate([\"A\",\"B\",\"C\",\"D\"]):\n",
    "            print('Parameter for {0} is {1}'.format(name,reg.coef_[i]))\n",
    "\n",
    "        print('Error on held out set is: ', reg.score(x_test,y_test))\n",
    "        print('\\n\\n')"
   ],
   "metadata": {
    "collapsed": false,
    "pycharm": {
     "name": "#%%\n"
    }
   }
  }
 ],
 "metadata": {
  "kernelspec": {
   "display_name": "Python 3",
   "language": "python",
   "name": "python3"
  },
  "language_info": {
   "codemirror_mode": {
    "name": "ipython",
    "version": 2
   },
   "file_extension": ".py",
   "mimetype": "text/x-python",
   "name": "python",
   "nbconvert_exporter": "python",
   "pygments_lexer": "ipython2",
   "version": "2.7.6"
  }
 },
 "nbformat": 4,
 "nbformat_minor": 0
}