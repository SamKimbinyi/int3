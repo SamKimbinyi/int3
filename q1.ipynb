{
 "cells": [
  {
   "cell_type": "code",
   "execution_count": 444,
   "metadata": {
    "collapsed": true
   },
   "outputs": [],
   "source": [
    "import pandas as pd\n",
    "import matplotlib.pyplot as plt\n",
    "import numpy as np\n",
    "from sklearn.linear_model import LinearRegression, Ridge\n",
    "from sklearn.linear_model import RidgeCV, LinearRegression, LassoCV\n",
    "from sklearn.model_selection import train_test_split\n",
    "from sklearn.metrics import r2_score\n",
    "from sklearn.pipeline import make_pipeline\n",
    "from sklearn.preprocessing import PolynomialFeatures"
   ]
  },
  {
   "cell_type": "code",
   "execution_count": 445,
   "outputs": [],
   "source": [
    "df = pd.read_csv(\"data.csv\")"
   ],
   "metadata": {
    "collapsed": false,
    "pycharm": {
     "name": "#%%\n"
    }
   }
  },
  {
   "cell_type": "code",
   "execution_count": 446,
   "outputs": [
    {
     "data": {
      "text/plain": "         A     B    C    D\n0    10.07  2.18  3.0  0.8\n1    10.00  2.20  3.0  0.7\n2     9.95  2.21  3.0  0.9\n3     9.93  2.30  2.5  1.1\n4     9.88  2.30  2.5  0.9\n..     ...   ...  ...  ...\n223   8.98  3.00  0.0  1.5\n224   8.91  3.10  0.0  1.6\n225   8.80  3.20  0.0  1.4\n226   8.73  3.10  0.0  1.5\n227   8.70  3.00  0.0  1.3\n\n[228 rows x 4 columns]",
      "text/html": "<div>\n<style scoped>\n    .dataframe tbody tr th:only-of-type {\n        vertical-align: middle;\n    }\n\n    .dataframe tbody tr th {\n        vertical-align: top;\n    }\n\n    .dataframe thead th {\n        text-align: right;\n    }\n</style>\n<table border=\"1\" class=\"dataframe\">\n  <thead>\n    <tr style=\"text-align: right;\">\n      <th></th>\n      <th>A</th>\n      <th>B</th>\n      <th>C</th>\n      <th>D</th>\n    </tr>\n  </thead>\n  <tbody>\n    <tr>\n      <th>0</th>\n      <td>10.07</td>\n      <td>2.18</td>\n      <td>3.0</td>\n      <td>0.8</td>\n    </tr>\n    <tr>\n      <th>1</th>\n      <td>10.00</td>\n      <td>2.20</td>\n      <td>3.0</td>\n      <td>0.7</td>\n    </tr>\n    <tr>\n      <th>2</th>\n      <td>9.95</td>\n      <td>2.21</td>\n      <td>3.0</td>\n      <td>0.9</td>\n    </tr>\n    <tr>\n      <th>3</th>\n      <td>9.93</td>\n      <td>2.30</td>\n      <td>2.5</td>\n      <td>1.1</td>\n    </tr>\n    <tr>\n      <th>4</th>\n      <td>9.88</td>\n      <td>2.30</td>\n      <td>2.5</td>\n      <td>0.9</td>\n    </tr>\n    <tr>\n      <th>...</th>\n      <td>...</td>\n      <td>...</td>\n      <td>...</td>\n      <td>...</td>\n    </tr>\n    <tr>\n      <th>223</th>\n      <td>8.98</td>\n      <td>3.00</td>\n      <td>0.0</td>\n      <td>1.5</td>\n    </tr>\n    <tr>\n      <th>224</th>\n      <td>8.91</td>\n      <td>3.10</td>\n      <td>0.0</td>\n      <td>1.6</td>\n    </tr>\n    <tr>\n      <th>225</th>\n      <td>8.80</td>\n      <td>3.20</td>\n      <td>0.0</td>\n      <td>1.4</td>\n    </tr>\n    <tr>\n      <th>226</th>\n      <td>8.73</td>\n      <td>3.10</td>\n      <td>0.0</td>\n      <td>1.5</td>\n    </tr>\n    <tr>\n      <th>227</th>\n      <td>8.70</td>\n      <td>3.00</td>\n      <td>0.0</td>\n      <td>1.3</td>\n    </tr>\n  </tbody>\n</table>\n<p>228 rows × 4 columns</p>\n</div>"
     },
     "execution_count": 446,
     "metadata": {},
     "output_type": "execute_result"
    }
   ],
   "source": [
    "df"
   ],
   "metadata": {
    "collapsed": false,
    "pycharm": {
     "name": "#%%\n"
    }
   }
  },
  {
   "cell_type": "code",
   "execution_count": 447,
   "outputs": [],
   "source": [
    "target = df[\"D\"].copy()\n",
    "df[\"D\"] = target.shift(1,fill_value=target[0])\n"
   ],
   "metadata": {
    "collapsed": false,
    "pycharm": {
     "name": "#%%\n"
    }
   }
  },
  {
   "cell_type": "code",
   "execution_count": 448,
   "outputs": [
    {
     "data": {
      "text/plain": "         A     B    C    D\n0    10.07  2.18  3.0  0.8\n1    10.00  2.20  3.0  0.8\n2     9.95  2.21  3.0  0.7\n3     9.93  2.30  2.5  0.9\n4     9.88  2.30  2.5  1.1\n..     ...   ...  ...  ...\n223   8.98  3.00  0.0  1.3\n224   8.91  3.10  0.0  1.5\n225   8.80  3.20  0.0  1.6\n226   8.73  3.10  0.0  1.4\n227   8.70  3.00  0.0  1.5\n\n[228 rows x 4 columns]",
      "text/html": "<div>\n<style scoped>\n    .dataframe tbody tr th:only-of-type {\n        vertical-align: middle;\n    }\n\n    .dataframe tbody tr th {\n        vertical-align: top;\n    }\n\n    .dataframe thead th {\n        text-align: right;\n    }\n</style>\n<table border=\"1\" class=\"dataframe\">\n  <thead>\n    <tr style=\"text-align: right;\">\n      <th></th>\n      <th>A</th>\n      <th>B</th>\n      <th>C</th>\n      <th>D</th>\n    </tr>\n  </thead>\n  <tbody>\n    <tr>\n      <th>0</th>\n      <td>10.07</td>\n      <td>2.18</td>\n      <td>3.0</td>\n      <td>0.8</td>\n    </tr>\n    <tr>\n      <th>1</th>\n      <td>10.00</td>\n      <td>2.20</td>\n      <td>3.0</td>\n      <td>0.8</td>\n    </tr>\n    <tr>\n      <th>2</th>\n      <td>9.95</td>\n      <td>2.21</td>\n      <td>3.0</td>\n      <td>0.7</td>\n    </tr>\n    <tr>\n      <th>3</th>\n      <td>9.93</td>\n      <td>2.30</td>\n      <td>2.5</td>\n      <td>0.9</td>\n    </tr>\n    <tr>\n      <th>4</th>\n      <td>9.88</td>\n      <td>2.30</td>\n      <td>2.5</td>\n      <td>1.1</td>\n    </tr>\n    <tr>\n      <th>...</th>\n      <td>...</td>\n      <td>...</td>\n      <td>...</td>\n      <td>...</td>\n    </tr>\n    <tr>\n      <th>223</th>\n      <td>8.98</td>\n      <td>3.00</td>\n      <td>0.0</td>\n      <td>1.3</td>\n    </tr>\n    <tr>\n      <th>224</th>\n      <td>8.91</td>\n      <td>3.10</td>\n      <td>0.0</td>\n      <td>1.5</td>\n    </tr>\n    <tr>\n      <th>225</th>\n      <td>8.80</td>\n      <td>3.20</td>\n      <td>0.0</td>\n      <td>1.6</td>\n    </tr>\n    <tr>\n      <th>226</th>\n      <td>8.73</td>\n      <td>3.10</td>\n      <td>0.0</td>\n      <td>1.4</td>\n    </tr>\n    <tr>\n      <th>227</th>\n      <td>8.70</td>\n      <td>3.00</td>\n      <td>0.0</td>\n      <td>1.5</td>\n    </tr>\n  </tbody>\n</table>\n<p>228 rows × 4 columns</p>\n</div>"
     },
     "execution_count": 448,
     "metadata": {},
     "output_type": "execute_result"
    }
   ],
   "source": [
    "df"
   ],
   "metadata": {
    "collapsed": false,
    "pycharm": {
     "name": "#%%\n"
    }
   }
  },
  {
   "cell_type": "code",
   "execution_count": 449,
   "outputs": [
    {
     "name": "stderr",
     "output_type": "stream",
     "text": [
      "C:\\Users\\Sam\\AppData\\Local\\Temp/ipykernel_23440/3033583746.py:4: PerformanceWarning: DataFrame is highly fragmented.  This is usually the result of calling `frame.insert` many times, which has poor performance.  Consider joining all columns at once using pd.concat(axis=1) instead.  To get a de-fragmented frame, use `newframe = frame.copy()`\n",
      "  df[f\"{columns}_Lag_{i}\"] = df[columns].shift(i, fill_value=fill_value)\n"
     ]
    }
   ],
   "source": [
    "for index, columns in enumerate([\"A\", \"B\", \"C\", \"D\"]):\n",
    "    for i in range(len(df)):\n",
    "        fill_value = df[columns].iloc[0]\n",
    "        df[f\"{columns}_Lag_{i}\"] = df[columns].shift(i, fill_value=fill_value)\n"
   ],
   "metadata": {
    "collapsed": false,
    "pycharm": {
     "name": "#%%\n"
    }
   }
  },
  {
   "cell_type": "code",
   "execution_count": 450,
   "outputs": [
    {
     "data": {
      "text/plain": "0      0.8\n1      0.7\n2      0.9\n3      1.1\n4      0.9\n      ... \n223    1.5\n224    1.6\n225    1.4\n226    1.5\n227    1.3\nName: D, Length: 228, dtype: float64"
     },
     "execution_count": 450,
     "metadata": {},
     "output_type": "execute_result"
    }
   ],
   "source": [
    "target"
   ],
   "metadata": {
    "collapsed": false,
    "pycharm": {
     "name": "#%%\n"
    }
   }
  },
  {
   "cell_type": "code",
   "execution_count": 451,
   "outputs": [],
   "source": [
    "df.drop([\"A\",\"B\",\"C\",\"D\"],axis=1,inplace=True)"
   ],
   "metadata": {
    "collapsed": false,
    "pycharm": {
     "name": "#%%\n"
    }
   }
  },
  {
   "cell_type": "code",
   "execution_count": 452,
   "outputs": [
    {
     "data": {
      "text/plain": "0"
     },
     "execution_count": 452,
     "metadata": {},
     "output_type": "execute_result"
    }
   ],
   "source": [
    "df.isnull().sum().sum()"
   ],
   "metadata": {
    "collapsed": false,
    "pycharm": {
     "name": "#%%\n"
    }
   }
  },
  {
   "cell_type": "code",
   "execution_count": 454,
   "outputs": [
    {
     "data": {
      "text/plain": "0      0.8\n1      0.8\n2      0.7\n3      0.9\n4      1.1\n      ... \n223    1.3\n224    1.5\n225    1.6\n226    1.4\n227    1.5\nName: D_Lag_0, Length: 228, dtype: float64"
     },
     "execution_count": 454,
     "metadata": {},
     "output_type": "execute_result"
    }
   ],
   "source": [
    "df[\"D_Lag_0\"]"
   ],
   "metadata": {
    "collapsed": false,
    "pycharm": {
     "name": "#%%\n"
    }
   }
  },
  {
   "cell_type": "code",
   "execution_count": 455,
   "outputs": [
    {
     "data": {
      "text/plain": "0      0.8\n1      0.7\n2      0.9\n3      1.1\n4      0.9\n      ... \n223    1.5\n224    1.6\n225    1.4\n226    1.5\n227    1.3\nName: D, Length: 228, dtype: float64"
     },
     "execution_count": 455,
     "metadata": {},
     "output_type": "execute_result"
    }
   ],
   "source": [
    "target"
   ],
   "metadata": {
    "collapsed": false,
    "pycharm": {
     "name": "#%%\n"
    }
   }
  },
  {
   "cell_type": "code",
   "execution_count": 456,
   "outputs": [
    {
     "data": {
      "text/plain": "0"
     },
     "execution_count": 456,
     "metadata": {},
     "output_type": "execute_result"
    }
   ],
   "source": [
    "target.isnull().sum().sum()"
   ],
   "metadata": {
    "collapsed": false,
    "pycharm": {
     "name": "#%%\n"
    }
   }
  },
  {
   "cell_type": "code",
   "execution_count": 457,
   "outputs": [
    {
     "data": {
      "text/plain": "0      0.8\n1      0.7\n2      0.9\n3      1.1\n4      0.9\n      ... \n223    1.5\n224    1.6\n225    1.4\n226    1.5\n227    1.3\nName: D, Length: 228, dtype: float64"
     },
     "execution_count": 457,
     "metadata": {},
     "output_type": "execute_result"
    }
   ],
   "source": [
    "target"
   ],
   "metadata": {
    "collapsed": false,
    "pycharm": {
     "name": "#%%\n"
    }
   }
  },
  {
   "cell_type": "markdown",
   "source": [],
   "metadata": {
    "collapsed": false
   }
  },
  {
   "cell_type": "code",
   "execution_count": 458,
   "outputs": [],
   "source": [
    "x_train, x_test, y_train, y_test = train_test_split(df,target)"
   ],
   "metadata": {
    "collapsed": false,
    "pycharm": {
     "name": "#%%\n"
    }
   }
  },
  {
   "cell_type": "code",
   "execution_count": 459,
   "outputs": [
    {
     "data": {
      "text/plain": "0"
     },
     "execution_count": 459,
     "metadata": {},
     "output_type": "execute_result"
    }
   ],
   "source": [
    "y_test.isnull().sum().sum()"
   ],
   "metadata": {
    "collapsed": false,
    "pycharm": {
     "name": "#%%\n"
    }
   }
  },
  {
   "cell_type": "markdown",
   "source": [
    "# Standard Linear Regression"
   ],
   "metadata": {
    "collapsed": false,
    "pycharm": {
     "name": "#%% md\n"
    }
   }
  },
  {
   "cell_type": "code",
   "execution_count": 460,
   "outputs": [],
   "source": [
    "model = LinearRegression()"
   ],
   "metadata": {
    "collapsed": false,
    "pycharm": {
     "name": "#%%\n"
    }
   }
  },
  {
   "cell_type": "code",
   "execution_count": 461,
   "outputs": [
    {
     "data": {
      "text/plain": "LinearRegression()"
     },
     "execution_count": 461,
     "metadata": {},
     "output_type": "execute_result"
    }
   ],
   "source": [
    "model.fit(x_train,y_train)"
   ],
   "metadata": {
    "collapsed": false,
    "pycharm": {
     "name": "#%%\n"
    }
   }
  },
  {
   "cell_type": "code",
   "execution_count": 462,
   "outputs": [
    {
     "data": {
      "text/plain": "     A_Lag_0  A_Lag_1  A_Lag_2  A_Lag_3  A_Lag_4  A_Lag_5  A_Lag_6  A_Lag_7  \\\n110     7.29     7.32     7.36     7.39     7.36      7.4     7.45     7.49   \n\n     A_Lag_8  A_Lag_9  ...  D_Lag_218  D_Lag_219  D_Lag_220  D_Lag_221  \\\n110     7.55      7.5  ...        0.8        0.8        0.8        0.8   \n\n     D_Lag_222  D_Lag_223  D_Lag_224  D_Lag_225  D_Lag_226  D_Lag_227  \n110        0.8        0.8        0.8        0.8        0.8        0.8  \n\n[1 rows x 912 columns]",
      "text/html": "<div>\n<style scoped>\n    .dataframe tbody tr th:only-of-type {\n        vertical-align: middle;\n    }\n\n    .dataframe tbody tr th {\n        vertical-align: top;\n    }\n\n    .dataframe thead th {\n        text-align: right;\n    }\n</style>\n<table border=\"1\" class=\"dataframe\">\n  <thead>\n    <tr style=\"text-align: right;\">\n      <th></th>\n      <th>A_Lag_0</th>\n      <th>A_Lag_1</th>\n      <th>A_Lag_2</th>\n      <th>A_Lag_3</th>\n      <th>A_Lag_4</th>\n      <th>A_Lag_5</th>\n      <th>A_Lag_6</th>\n      <th>A_Lag_7</th>\n      <th>A_Lag_8</th>\n      <th>A_Lag_9</th>\n      <th>...</th>\n      <th>D_Lag_218</th>\n      <th>D_Lag_219</th>\n      <th>D_Lag_220</th>\n      <th>D_Lag_221</th>\n      <th>D_Lag_222</th>\n      <th>D_Lag_223</th>\n      <th>D_Lag_224</th>\n      <th>D_Lag_225</th>\n      <th>D_Lag_226</th>\n      <th>D_Lag_227</th>\n    </tr>\n  </thead>\n  <tbody>\n    <tr>\n      <th>110</th>\n      <td>7.29</td>\n      <td>7.32</td>\n      <td>7.36</td>\n      <td>7.39</td>\n      <td>7.36</td>\n      <td>7.4</td>\n      <td>7.45</td>\n      <td>7.49</td>\n      <td>7.55</td>\n      <td>7.5</td>\n      <td>...</td>\n      <td>0.8</td>\n      <td>0.8</td>\n      <td>0.8</td>\n      <td>0.8</td>\n      <td>0.8</td>\n      <td>0.8</td>\n      <td>0.8</td>\n      <td>0.8</td>\n      <td>0.8</td>\n      <td>0.8</td>\n    </tr>\n  </tbody>\n</table>\n<p>1 rows × 912 columns</p>\n</div>"
     },
     "execution_count": 462,
     "metadata": {},
     "output_type": "execute_result"
    }
   ],
   "source": [
    "x_test.head(1)"
   ],
   "metadata": {
    "collapsed": false,
    "pycharm": {
     "name": "#%%\n"
    }
   }
  },
  {
   "cell_type": "code",
   "execution_count": 463,
   "outputs": [
    {
     "data": {
      "text/plain": "array([ 3.06159701,  2.3226295 ,  0.92059256,  2.41917623,  0.03181918,\n        2.55681262,  0.4637834 ,  2.00908267,  0.51170805,  3.16017765,\n       -1.6986277 ,  0.04608129, -0.16554995,  2.0871481 ,  2.17701424,\n        2.47364791,  1.59382877,  2.27306382,  1.95971654,  2.04849119,\n        2.14013507,  1.32194701,  3.0427789 ,  3.66156599,  2.21445622,\n        1.33357035,  0.9759692 ,  0.04730979,  0.87186965,  2.13972503,\n        2.20478043,  2.5940016 ,  2.67831458,  1.57599997,  2.63657839,\n        1.88741506,  0.77093158,  2.82271617,  2.91150971,  1.58615704,\n        3.62626956,  1.82780448, -0.220197  ,  1.6300261 ,  0.09093249,\n        1.78056427,  2.95940293,  1.94246555,  2.3117274 ,  1.90336397,\n        1.70958358, -0.25676153,  2.95336596,  2.27610788,  0.88199165,\n        0.14365696,  2.34054137])"
     },
     "execution_count": 463,
     "metadata": {},
     "output_type": "execute_result"
    }
   ],
   "source": [
    "model.predict(x_test)"
   ],
   "metadata": {
    "collapsed": false,
    "pycharm": {
     "name": "#%%\n"
    }
   }
  },
  {
   "cell_type": "code",
   "execution_count": 464,
   "outputs": [
    {
     "data": {
      "text/plain": "110    3.6\n38     2.5\n183    0.7\n73     2.1\n210    0.2\n88     2.5\n201    0.4\n79     2.2\n193   -0.3\n153    3.0\n126   -0.6\n181    0.7\n208   -0.1\n18     2.1\n23     2.5\n138    1.7\n52     1.8\n219    1.9\n14     2.0\n72     1.9\n162    2.4\n221    1.3\n58     2.2\n113    3.9\n59     2.0\n224    1.6\n134    1.6\n132    0.9\n135    1.6\n96     1.8\n100    1.9\n165    2.5\n80     2.6\n220    1.4\n89     2.5\n102    1.8\n214    0.6\n154    3.0\n157    2.7\n173    1.6\n115    3.8\n218    1.5\n209    0.0\n139    1.6\n204    0.3\n50     2.4\n108    3.2\n78     2.1\n53     2.0\n98     1.9\n69     2.4\n187    0.4\n105    2.5\n39     2.4\n6      1.0\n185    0.5\n216    1.7\nName: D, dtype: float64"
     },
     "execution_count": 464,
     "metadata": {},
     "output_type": "execute_result"
    }
   ],
   "source": [
    "y_test"
   ],
   "metadata": {
    "collapsed": false,
    "pycharm": {
     "name": "#%%\n"
    }
   }
  },
  {
   "cell_type": "code",
   "execution_count": 465,
   "outputs": [
    {
     "data": {
      "text/plain": "0.8364182929308599"
     },
     "execution_count": 465,
     "metadata": {},
     "output_type": "execute_result"
    }
   ],
   "source": [
    "r2_score(y_test, model.predict(x_test))"
   ],
   "metadata": {
    "collapsed": false,
    "pycharm": {
     "name": "#%%\n"
    }
   }
  },
  {
   "cell_type": "markdown",
   "source": [
    "# Regularisation"
   ],
   "metadata": {
    "collapsed": false,
    "pycharm": {
     "name": "#%% md\n"
    }
   }
  },
  {
   "cell_type": "code",
   "execution_count": 466,
   "outputs": [
    {
     "name": "stdout",
     "output_type": "stream",
     "text": [
      "Training with this many datapoints:  150\n",
      "Using regression of type:  linear regression\n",
      "Parameter for A is 1.3819012910868105\n",
      "Parameter for B is -2.721603260911742\n",
      "Parameter for C is -0.25023597711297213\n",
      "Parameter for D is 0.13596871588592963\n",
      "Error on held out set is:  0.8364182929308599\n",
      "\n",
      "\n",
      "\n",
      "Using regression of type:  Ridge regression using CV\n",
      "Trying these complexity parameter values (i.e.alphas):  [1.e-06 1.e-05 1.e-04 1.e-03 1.e-02 1.e-01 1.e+00 1.e+01 1.e+02 1.e+03\n",
      " 1.e+04 1.e+05 1.e+06]\n",
      "Using cross-validation got this value for the complexity parameter:  1.0\n",
      "Parameter for A is -0.0567198484601481\n",
      "Parameter for B is -0.061730886501861315\n",
      "Parameter for C is -0.05033245327089331\n",
      "Parameter for D is -0.03154957738534536\n",
      "Error on held out set is:  0.9612201992790324\n",
      "\n",
      "\n",
      "\n",
      "Using regression of type:  Lasso regression using CV\n",
      "Trying these complexity parameter values (i.e.alphas):  [1.e-06 1.e-05 1.e-04 1.e-03 1.e-02 1.e-01 1.e+00 1.e+01 1.e+02 1.e+03\n",
      " 1.e+04 1.e+05 1.e+06]\n"
     ]
    },
    {
     "name": "stderr",
     "output_type": "stream",
     "text": [
      "G:\\anaconda\\envs\\workspace\\lib\\site-packages\\sklearn\\linear_model\\_coordinate_descent.py:647: ConvergenceWarning: Objective did not converge. You might want to increase the number of iterations, check the scale of the features or consider increasing regularisation. Duality gap: 1.586e-01, tolerance: 1.016e-02\n",
      "  model = cd_fast.enet_coordinate_descent(\n",
      "G:\\anaconda\\envs\\workspace\\lib\\site-packages\\sklearn\\linear_model\\_coordinate_descent.py:647: ConvergenceWarning: Objective did not converge. You might want to increase the number of iterations, check the scale of the features or consider increasing regularisation. Duality gap: 1.139e-01, tolerance: 1.016e-02\n",
      "  model = cd_fast.enet_coordinate_descent(\n",
      "G:\\anaconda\\envs\\workspace\\lib\\site-packages\\sklearn\\linear_model\\_coordinate_descent.py:647: ConvergenceWarning: Objective did not converge. You might want to increase the number of iterations, check the scale of the features or consider increasing regularisation. Duality gap: 4.185e-02, tolerance: 1.016e-02\n",
      "  model = cd_fast.enet_coordinate_descent(\n",
      "G:\\anaconda\\envs\\workspace\\lib\\site-packages\\sklearn\\linear_model\\_coordinate_descent.py:647: ConvergenceWarning: Objective did not converge. You might want to increase the number of iterations, check the scale of the features or consider increasing regularisation. Duality gap: 1.920e-02, tolerance: 1.016e-02\n",
      "  model = cd_fast.enet_coordinate_descent(\n",
      "G:\\anaconda\\envs\\workspace\\lib\\site-packages\\sklearn\\linear_model\\_coordinate_descent.py:647: ConvergenceWarning: Objective did not converge. You might want to increase the number of iterations, check the scale of the features or consider increasing regularisation. Duality gap: 2.277e-01, tolerance: 1.198e-02\n",
      "  model = cd_fast.enet_coordinate_descent(\n",
      "G:\\anaconda\\envs\\workspace\\lib\\site-packages\\sklearn\\linear_model\\_coordinate_descent.py:647: ConvergenceWarning: Objective did not converge. You might want to increase the number of iterations, check the scale of the features or consider increasing regularisation. Duality gap: 1.592e-01, tolerance: 1.198e-02\n",
      "  model = cd_fast.enet_coordinate_descent(\n",
      "G:\\anaconda\\envs\\workspace\\lib\\site-packages\\sklearn\\linear_model\\_coordinate_descent.py:647: ConvergenceWarning: Objective did not converge. You might want to increase the number of iterations, check the scale of the features or consider increasing regularisation. Duality gap: 4.926e-02, tolerance: 1.198e-02\n",
      "  model = cd_fast.enet_coordinate_descent(\n",
      "G:\\anaconda\\envs\\workspace\\lib\\site-packages\\sklearn\\linear_model\\_coordinate_descent.py:647: ConvergenceWarning: Objective did not converge. You might want to increase the number of iterations, check the scale of the features or consider increasing regularisation. Duality gap: 2.337e-02, tolerance: 1.198e-02\n",
      "  model = cd_fast.enet_coordinate_descent(\n",
      "G:\\anaconda\\envs\\workspace\\lib\\site-packages\\sklearn\\linear_model\\_coordinate_descent.py:647: ConvergenceWarning: Objective did not converge. You might want to increase the number of iterations, check the scale of the features or consider increasing regularisation. Duality gap: 2.092e-01, tolerance: 1.250e-02\n",
      "  model = cd_fast.enet_coordinate_descent(\n",
      "G:\\anaconda\\envs\\workspace\\lib\\site-packages\\sklearn\\linear_model\\_coordinate_descent.py:647: ConvergenceWarning: Objective did not converge. You might want to increase the number of iterations, check the scale of the features or consider increasing regularisation. Duality gap: 1.268e-01, tolerance: 1.250e-02\n",
      "  model = cd_fast.enet_coordinate_descent(\n",
      "G:\\anaconda\\envs\\workspace\\lib\\site-packages\\sklearn\\linear_model\\_coordinate_descent.py:647: ConvergenceWarning: Objective did not converge. You might want to increase the number of iterations, check the scale of the features or consider increasing regularisation. Duality gap: 3.713e-02, tolerance: 1.250e-02\n",
      "  model = cd_fast.enet_coordinate_descent(\n",
      "G:\\anaconda\\envs\\workspace\\lib\\site-packages\\sklearn\\linear_model\\_coordinate_descent.py:647: ConvergenceWarning: Objective did not converge. You might want to increase the number of iterations, check the scale of the features or consider increasing regularisation. Duality gap: 2.272e-02, tolerance: 1.250e-02\n",
      "  model = cd_fast.enet_coordinate_descent(\n",
      "G:\\anaconda\\envs\\workspace\\lib\\site-packages\\sklearn\\linear_model\\_coordinate_descent.py:647: ConvergenceWarning: Objective did not converge. You might want to increase the number of iterations, check the scale of the features or consider increasing regularisation. Duality gap: 3.583e-01, tolerance: 1.226e-02\n",
      "  model = cd_fast.enet_coordinate_descent(\n",
      "G:\\anaconda\\envs\\workspace\\lib\\site-packages\\sklearn\\linear_model\\_coordinate_descent.py:647: ConvergenceWarning: Objective did not converge. You might want to increase the number of iterations, check the scale of the features or consider increasing regularisation. Duality gap: 1.327e-01, tolerance: 1.226e-02\n",
      "  model = cd_fast.enet_coordinate_descent(\n",
      "G:\\anaconda\\envs\\workspace\\lib\\site-packages\\sklearn\\linear_model\\_coordinate_descent.py:647: ConvergenceWarning: Objective did not converge. You might want to increase the number of iterations, check the scale of the features or consider increasing regularisation. Duality gap: 3.078e-02, tolerance: 1.226e-02\n",
      "  model = cd_fast.enet_coordinate_descent(\n",
      "G:\\anaconda\\envs\\workspace\\lib\\site-packages\\sklearn\\linear_model\\_coordinate_descent.py:647: ConvergenceWarning: Objective did not converge. You might want to increase the number of iterations, check the scale of the features or consider increasing regularisation. Duality gap: 1.463e-02, tolerance: 1.226e-02\n",
      "  model = cd_fast.enet_coordinate_descent(\n",
      "G:\\anaconda\\envs\\workspace\\lib\\site-packages\\sklearn\\linear_model\\_coordinate_descent.py:647: ConvergenceWarning: Objective did not converge. You might want to increase the number of iterations, check the scale of the features or consider increasing regularisation. Duality gap: 7.431e-02, tolerance: 1.166e-02\n",
      "  model = cd_fast.enet_coordinate_descent(\n",
      "G:\\anaconda\\envs\\workspace\\lib\\site-packages\\sklearn\\linear_model\\_coordinate_descent.py:647: ConvergenceWarning: Objective did not converge. You might want to increase the number of iterations, check the scale of the features or consider increasing regularisation. Duality gap: 1.372e-01, tolerance: 1.166e-02\n",
      "  model = cd_fast.enet_coordinate_descent(\n",
      "G:\\anaconda\\envs\\workspace\\lib\\site-packages\\sklearn\\linear_model\\_coordinate_descent.py:647: ConvergenceWarning: Objective did not converge. You might want to increase the number of iterations, check the scale of the features or consider increasing regularisation. Duality gap: 3.797e-02, tolerance: 1.166e-02\n",
      "  model = cd_fast.enet_coordinate_descent(\n",
      "G:\\anaconda\\envs\\workspace\\lib\\site-packages\\sklearn\\linear_model\\_coordinate_descent.py:647: ConvergenceWarning: Objective did not converge. You might want to increase the number of iterations, check the scale of the features or consider increasing regularisation. Duality gap: 1.846e-02, tolerance: 1.166e-02\n",
      "  model = cd_fast.enet_coordinate_descent(\n"
     ]
    },
    {
     "name": "stdout",
     "output_type": "stream",
     "text": [
      "Using cross-validation got this value for the complexity parameter:  0.01\n",
      "Parameter for A is -0.0\n",
      "Parameter for B is -0.0\n",
      "Parameter for C is -0.0\n",
      "Parameter for D is -0.0\n",
      "Error on held out set is:  0.9433237330281264\n",
      "\n",
      "\n",
      "\n",
      "Training with this many datapoints:  10\n",
      "Using regression of type:  linear regression\n",
      "Parameter for A is 1.3819012910868105\n",
      "Parameter for B is -2.721603260911742\n",
      "Parameter for C is -0.25023597711297213\n",
      "Parameter for D is 0.13596871588592963\n",
      "Error on held out set is:  0.8364182929308599\n",
      "\n",
      "\n",
      "\n",
      "Using regression of type:  Ridge regression using CV\n",
      "Trying these complexity parameter values (i.e.alphas):  [1.e-06 1.e-05 1.e-04 1.e-03 1.e-02 1.e-01 1.e+00 1.e+01 1.e+02 1.e+03\n",
      " 1.e+04 1.e+05 1.e+06]\n",
      "Using cross-validation got this value for the complexity parameter:  1.0\n",
      "Parameter for A is -0.0567198484601481\n",
      "Parameter for B is -0.061730886501861315\n",
      "Parameter for C is -0.05033245327089331\n",
      "Parameter for D is -0.03154957738534536\n",
      "Error on held out set is:  0.9612201992790324\n",
      "\n",
      "\n",
      "\n",
      "Using regression of type:  Lasso regression using CV\n",
      "Trying these complexity parameter values (i.e.alphas):  [1.e-06 1.e-05 1.e-04 1.e-03 1.e-02 1.e-01 1.e+00 1.e+01 1.e+02 1.e+03\n",
      " 1.e+04 1.e+05 1.e+06]\n"
     ]
    },
    {
     "name": "stderr",
     "output_type": "stream",
     "text": [
      "G:\\anaconda\\envs\\workspace\\lib\\site-packages\\sklearn\\linear_model\\_coordinate_descent.py:647: ConvergenceWarning: Objective did not converge. You might want to increase the number of iterations, check the scale of the features or consider increasing regularisation. Duality gap: 1.586e-01, tolerance: 1.016e-02\n",
      "  model = cd_fast.enet_coordinate_descent(\n",
      "G:\\anaconda\\envs\\workspace\\lib\\site-packages\\sklearn\\linear_model\\_coordinate_descent.py:647: ConvergenceWarning: Objective did not converge. You might want to increase the number of iterations, check the scale of the features or consider increasing regularisation. Duality gap: 1.139e-01, tolerance: 1.016e-02\n",
      "  model = cd_fast.enet_coordinate_descent(\n",
      "G:\\anaconda\\envs\\workspace\\lib\\site-packages\\sklearn\\linear_model\\_coordinate_descent.py:647: ConvergenceWarning: Objective did not converge. You might want to increase the number of iterations, check the scale of the features or consider increasing regularisation. Duality gap: 4.185e-02, tolerance: 1.016e-02\n",
      "  model = cd_fast.enet_coordinate_descent(\n",
      "G:\\anaconda\\envs\\workspace\\lib\\site-packages\\sklearn\\linear_model\\_coordinate_descent.py:647: ConvergenceWarning: Objective did not converge. You might want to increase the number of iterations, check the scale of the features or consider increasing regularisation. Duality gap: 1.920e-02, tolerance: 1.016e-02\n",
      "  model = cd_fast.enet_coordinate_descent(\n",
      "G:\\anaconda\\envs\\workspace\\lib\\site-packages\\sklearn\\linear_model\\_coordinate_descent.py:647: ConvergenceWarning: Objective did not converge. You might want to increase the number of iterations, check the scale of the features or consider increasing regularisation. Duality gap: 2.277e-01, tolerance: 1.198e-02\n",
      "  model = cd_fast.enet_coordinate_descent(\n",
      "G:\\anaconda\\envs\\workspace\\lib\\site-packages\\sklearn\\linear_model\\_coordinate_descent.py:647: ConvergenceWarning: Objective did not converge. You might want to increase the number of iterations, check the scale of the features or consider increasing regularisation. Duality gap: 1.592e-01, tolerance: 1.198e-02\n",
      "  model = cd_fast.enet_coordinate_descent(\n",
      "G:\\anaconda\\envs\\workspace\\lib\\site-packages\\sklearn\\linear_model\\_coordinate_descent.py:647: ConvergenceWarning: Objective did not converge. You might want to increase the number of iterations, check the scale of the features or consider increasing regularisation. Duality gap: 4.926e-02, tolerance: 1.198e-02\n",
      "  model = cd_fast.enet_coordinate_descent(\n",
      "G:\\anaconda\\envs\\workspace\\lib\\site-packages\\sklearn\\linear_model\\_coordinate_descent.py:647: ConvergenceWarning: Objective did not converge. You might want to increase the number of iterations, check the scale of the features or consider increasing regularisation. Duality gap: 2.337e-02, tolerance: 1.198e-02\n",
      "  model = cd_fast.enet_coordinate_descent(\n",
      "G:\\anaconda\\envs\\workspace\\lib\\site-packages\\sklearn\\linear_model\\_coordinate_descent.py:647: ConvergenceWarning: Objective did not converge. You might want to increase the number of iterations, check the scale of the features or consider increasing regularisation. Duality gap: 2.092e-01, tolerance: 1.250e-02\n",
      "  model = cd_fast.enet_coordinate_descent(\n",
      "G:\\anaconda\\envs\\workspace\\lib\\site-packages\\sklearn\\linear_model\\_coordinate_descent.py:647: ConvergenceWarning: Objective did not converge. You might want to increase the number of iterations, check the scale of the features or consider increasing regularisation. Duality gap: 1.268e-01, tolerance: 1.250e-02\n",
      "  model = cd_fast.enet_coordinate_descent(\n",
      "G:\\anaconda\\envs\\workspace\\lib\\site-packages\\sklearn\\linear_model\\_coordinate_descent.py:647: ConvergenceWarning: Objective did not converge. You might want to increase the number of iterations, check the scale of the features or consider increasing regularisation. Duality gap: 3.713e-02, tolerance: 1.250e-02\n",
      "  model = cd_fast.enet_coordinate_descent(\n",
      "G:\\anaconda\\envs\\workspace\\lib\\site-packages\\sklearn\\linear_model\\_coordinate_descent.py:647: ConvergenceWarning: Objective did not converge. You might want to increase the number of iterations, check the scale of the features or consider increasing regularisation. Duality gap: 2.272e-02, tolerance: 1.250e-02\n",
      "  model = cd_fast.enet_coordinate_descent(\n",
      "G:\\anaconda\\envs\\workspace\\lib\\site-packages\\sklearn\\linear_model\\_coordinate_descent.py:647: ConvergenceWarning: Objective did not converge. You might want to increase the number of iterations, check the scale of the features or consider increasing regularisation. Duality gap: 3.583e-01, tolerance: 1.226e-02\n",
      "  model = cd_fast.enet_coordinate_descent(\n",
      "G:\\anaconda\\envs\\workspace\\lib\\site-packages\\sklearn\\linear_model\\_coordinate_descent.py:647: ConvergenceWarning: Objective did not converge. You might want to increase the number of iterations, check the scale of the features or consider increasing regularisation. Duality gap: 1.327e-01, tolerance: 1.226e-02\n",
      "  model = cd_fast.enet_coordinate_descent(\n",
      "G:\\anaconda\\envs\\workspace\\lib\\site-packages\\sklearn\\linear_model\\_coordinate_descent.py:647: ConvergenceWarning: Objective did not converge. You might want to increase the number of iterations, check the scale of the features or consider increasing regularisation. Duality gap: 3.078e-02, tolerance: 1.226e-02\n",
      "  model = cd_fast.enet_coordinate_descent(\n",
      "G:\\anaconda\\envs\\workspace\\lib\\site-packages\\sklearn\\linear_model\\_coordinate_descent.py:647: ConvergenceWarning: Objective did not converge. You might want to increase the number of iterations, check the scale of the features or consider increasing regularisation. Duality gap: 1.463e-02, tolerance: 1.226e-02\n",
      "  model = cd_fast.enet_coordinate_descent(\n",
      "G:\\anaconda\\envs\\workspace\\lib\\site-packages\\sklearn\\linear_model\\_coordinate_descent.py:647: ConvergenceWarning: Objective did not converge. You might want to increase the number of iterations, check the scale of the features or consider increasing regularisation. Duality gap: 7.431e-02, tolerance: 1.166e-02\n",
      "  model = cd_fast.enet_coordinate_descent(\n",
      "G:\\anaconda\\envs\\workspace\\lib\\site-packages\\sklearn\\linear_model\\_coordinate_descent.py:647: ConvergenceWarning: Objective did not converge. You might want to increase the number of iterations, check the scale of the features or consider increasing regularisation. Duality gap: 1.372e-01, tolerance: 1.166e-02\n",
      "  model = cd_fast.enet_coordinate_descent(\n",
      "G:\\anaconda\\envs\\workspace\\lib\\site-packages\\sklearn\\linear_model\\_coordinate_descent.py:647: ConvergenceWarning: Objective did not converge. You might want to increase the number of iterations, check the scale of the features or consider increasing regularisation. Duality gap: 3.797e-02, tolerance: 1.166e-02\n",
      "  model = cd_fast.enet_coordinate_descent(\n"
     ]
    },
    {
     "name": "stdout",
     "output_type": "stream",
     "text": [
      "Using cross-validation got this value for the complexity parameter:  0.01\n",
      "Parameter for A is -0.0\n",
      "Parameter for B is -0.0\n",
      "Parameter for C is -0.0\n",
      "Parameter for D is -0.0\n",
      "Error on held out set is:  0.9433237330281264\n",
      "\n",
      "\n",
      "\n"
     ]
    },
    {
     "name": "stderr",
     "output_type": "stream",
     "text": [
      "G:\\anaconda\\envs\\workspace\\lib\\site-packages\\sklearn\\linear_model\\_coordinate_descent.py:647: ConvergenceWarning: Objective did not converge. You might want to increase the number of iterations, check the scale of the features or consider increasing regularisation. Duality gap: 1.846e-02, tolerance: 1.166e-02\n",
      "  model = cd_fast.enet_coordinate_descent(\n"
     ]
    }
   ],
   "source": [
    "myalphas = np.logspace(-6, 6, 13)\n",
    "train_sizes = 150, 10\n",
    "\n",
    "models = LinearRegression, RidgeCV, LassoCV\n",
    "model_names = 'linear regression', 'Ridge regression using CV', 'Lasso regression using CV'\n",
    "\n",
    "for train_size in train_sizes:\n",
    "    print('Training with this many datapoints: ', train_size)\n",
    "    for i, model in enumerate(models):\n",
    "        print('Using regression of type: ', model_names[i])\n",
    "        if model == LinearRegression:\n",
    "            reg = model()\n",
    "        else:\n",
    "            print('Trying these complexity parameter values (i.e.alphas): ', myalphas)\n",
    "            reg = model(alphas=myalphas)\n",
    "        reg.fit(x_train,y_train)\n",
    "\n",
    "        if model != LinearRegression:\n",
    "            print('Using cross-validation got this value for the complexity parameter: ', reg.alpha_)\n",
    "        for i, name in enumerate([\"A\",\"B\",\"C\",\"D\"]):\n",
    "            print('Parameter for {0} is {1}'.format(name,reg.coef_[i]))\n",
    "\n",
    "        print('Error on held out set is: ', reg.score(x_test,y_test))\n",
    "        print('\\n\\n')"
   ],
   "metadata": {
    "collapsed": false,
    "pycharm": {
     "name": "#%%\n"
    }
   }
  },
  {
   "cell_type": "markdown",
   "source": [
    "# Polynomial Regression"
   ],
   "metadata": {
    "collapsed": false,
    "pycharm": {
     "name": "#%% md\n"
    }
   }
  },
  {
   "cell_type": "code",
   "execution_count": 467,
   "outputs": [
    {
     "data": {
      "text/plain": "     A_Lag_0  B_Lag_0  C_Lag_0  D_Lag_0\n0      10.07     2.18      3.0      0.8\n1      10.00     2.20      3.0      0.8\n2       9.95     2.21      3.0      0.7\n3       9.93     2.30      2.5      0.9\n4       9.88     2.30      2.5      1.1\n..       ...      ...      ...      ...\n223     8.98     3.00      0.0      1.3\n224     8.91     3.10      0.0      1.5\n225     8.80     3.20      0.0      1.6\n226     8.73     3.10      0.0      1.4\n227     8.70     3.00      0.0      1.5\n\n[228 rows x 4 columns]",
      "text/html": "<div>\n<style scoped>\n    .dataframe tbody tr th:only-of-type {\n        vertical-align: middle;\n    }\n\n    .dataframe tbody tr th {\n        vertical-align: top;\n    }\n\n    .dataframe thead th {\n        text-align: right;\n    }\n</style>\n<table border=\"1\" class=\"dataframe\">\n  <thead>\n    <tr style=\"text-align: right;\">\n      <th></th>\n      <th>A_Lag_0</th>\n      <th>B_Lag_0</th>\n      <th>C_Lag_0</th>\n      <th>D_Lag_0</th>\n    </tr>\n  </thead>\n  <tbody>\n    <tr>\n      <th>0</th>\n      <td>10.07</td>\n      <td>2.18</td>\n      <td>3.0</td>\n      <td>0.8</td>\n    </tr>\n    <tr>\n      <th>1</th>\n      <td>10.00</td>\n      <td>2.20</td>\n      <td>3.0</td>\n      <td>0.8</td>\n    </tr>\n    <tr>\n      <th>2</th>\n      <td>9.95</td>\n      <td>2.21</td>\n      <td>3.0</td>\n      <td>0.7</td>\n    </tr>\n    <tr>\n      <th>3</th>\n      <td>9.93</td>\n      <td>2.30</td>\n      <td>2.5</td>\n      <td>0.9</td>\n    </tr>\n    <tr>\n      <th>4</th>\n      <td>9.88</td>\n      <td>2.30</td>\n      <td>2.5</td>\n      <td>1.1</td>\n    </tr>\n    <tr>\n      <th>...</th>\n      <td>...</td>\n      <td>...</td>\n      <td>...</td>\n      <td>...</td>\n    </tr>\n    <tr>\n      <th>223</th>\n      <td>8.98</td>\n      <td>3.00</td>\n      <td>0.0</td>\n      <td>1.3</td>\n    </tr>\n    <tr>\n      <th>224</th>\n      <td>8.91</td>\n      <td>3.10</td>\n      <td>0.0</td>\n      <td>1.5</td>\n    </tr>\n    <tr>\n      <th>225</th>\n      <td>8.80</td>\n      <td>3.20</td>\n      <td>0.0</td>\n      <td>1.6</td>\n    </tr>\n    <tr>\n      <th>226</th>\n      <td>8.73</td>\n      <td>3.10</td>\n      <td>0.0</td>\n      <td>1.4</td>\n    </tr>\n    <tr>\n      <th>227</th>\n      <td>8.70</td>\n      <td>3.00</td>\n      <td>0.0</td>\n      <td>1.5</td>\n    </tr>\n  </tbody>\n</table>\n<p>228 rows × 4 columns</p>\n</div>"
     },
     "execution_count": 467,
     "metadata": {},
     "output_type": "execute_result"
    }
   ],
   "source": [
    "df[[\"A_Lag_0\",\"B_Lag_0\",\"C_Lag_0\",\"D_Lag_0\"]]"
   ],
   "metadata": {
    "collapsed": false,
    "pycharm": {
     "name": "#%%\n"
    }
   }
  },
  {
   "cell_type": "code",
   "execution_count": 470,
   "outputs": [
    {
     "data": {
      "text/plain": "     A_Lag_0  B_Lag_0  C_Lag_0  D_Lag_0\n110     7.29      2.2      4.0      3.3",
      "text/html": "<div>\n<style scoped>\n    .dataframe tbody tr th:only-of-type {\n        vertical-align: middle;\n    }\n\n    .dataframe tbody tr th {\n        vertical-align: top;\n    }\n\n    .dataframe thead th {\n        text-align: right;\n    }\n</style>\n<table border=\"1\" class=\"dataframe\">\n  <thead>\n    <tr style=\"text-align: right;\">\n      <th></th>\n      <th>A_Lag_0</th>\n      <th>B_Lag_0</th>\n      <th>C_Lag_0</th>\n      <th>D_Lag_0</th>\n    </tr>\n  </thead>\n  <tbody>\n    <tr>\n      <th>110</th>\n      <td>7.29</td>\n      <td>2.2</td>\n      <td>4.0</td>\n      <td>3.3</td>\n    </tr>\n  </tbody>\n</table>\n</div>"
     },
     "execution_count": 470,
     "metadata": {},
     "output_type": "execute_result"
    }
   ],
   "source": [
    "x_test[[\"A_Lag_0\",\"B_Lag_0\",\"C_Lag_0\",\"D_Lag_0\"]].head(1)"
   ],
   "metadata": {
    "collapsed": false,
    "pycharm": {
     "name": "#%%\n"
    }
   }
  },
  {
   "cell_type": "code",
   "execution_count": 471,
   "outputs": [
    {
     "data": {
      "text/plain": "110    3.6\n38     2.5\n183    0.7\n73     2.1\n210    0.2\n88     2.5\n201    0.4\n79     2.2\n193   -0.3\n153    3.0\n126   -0.6\n181    0.7\n208   -0.1\n18     2.1\n23     2.5\n138    1.7\n52     1.8\n219    1.9\n14     2.0\n72     1.9\n162    2.4\n221    1.3\n58     2.2\n113    3.9\n59     2.0\n224    1.6\n134    1.6\n132    0.9\n135    1.6\n96     1.8\n100    1.9\n165    2.5\n80     2.6\n220    1.4\n89     2.5\n102    1.8\n214    0.6\n154    3.0\n157    2.7\n173    1.6\n115    3.8\n218    1.5\n209    0.0\n139    1.6\n204    0.3\n50     2.4\n108    3.2\n78     2.1\n53     2.0\n98     1.9\n69     2.4\n187    0.4\n105    2.5\n39     2.4\n6      1.0\n185    0.5\n216    1.7\nName: D, dtype: float64"
     },
     "execution_count": 471,
     "metadata": {},
     "output_type": "execute_result"
    }
   ],
   "source": [
    "y_test"
   ],
   "metadata": {
    "collapsed": false,
    "pycharm": {
     "name": "#%%\n"
    }
   }
  },
  {
   "cell_type": "code",
   "execution_count": 472,
   "outputs": [],
   "source": [
    "\n",
    "# polynomial features\n",
    "\n",
    "# Pipeline: creates a pipeline of transforms with a final estimator.\n",
    "model = make_pipeline(PolynomialFeatures(3),Ridge(alpha=0.1))\n",
    "model.fit(x_train[[\"A_Lag_0\",\"B_Lag_0\",\"C_Lag_0\",\"D_Lag_0\"]], y_train)\n",
    "y_plot = model.predict(x_test[[\"A_Lag_0\",\"B_Lag_0\",\"C_Lag_0\",\"D_Lag_0\"]])"
   ],
   "metadata": {
    "collapsed": false,
    "pycharm": {
     "name": "#%%\n"
    }
   }
  },
  {
   "cell_type": "code",
   "execution_count": 476,
   "outputs": [
    {
     "data": {
      "text/plain": "0.935316611910581"
     },
     "execution_count": 476,
     "metadata": {},
     "output_type": "execute_result"
    }
   ],
   "source": [
    "r2_score(y_test, model.predict(x_test[[\"A_Lag_0\",\"B_Lag_0\",\"C_Lag_0\",\"D_Lag_0\"]]))"
   ],
   "metadata": {
    "collapsed": false,
    "pycharm": {
     "name": "#%%\n"
    }
   }
  },
  {
   "cell_type": "markdown",
   "source": [
    "# Piecewise Regression"
   ],
   "metadata": {
    "collapsed": false,
    "pycharm": {
     "name": "#%% md\n"
    }
   },
   "outputs": [],
   "execution_count": 1
  }
 ],
 "metadata": {
  "kernelspec": {
   "display_name": "Python 3",
   "language": "python",
   "name": "python3"
  },
  "language_info": {
   "codemirror_mode": {
    "name": "ipython",
    "version": 2
   },
   "file_extension": ".py",
   "mimetype": "text/x-python",
   "name": "python",
   "nbconvert_exporter": "python",
   "pygments_lexer": "ipython2",
   "version": "2.7.6"
  }
 },
 "nbformat": 4,
 "nbformat_minor": 0
}