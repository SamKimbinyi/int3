{
 "cells": [
  {
   "cell_type": "markdown",
   "source": [
    "# Question 3"
   ],
   "metadata": {
    "collapsed": false,
    "pycharm": {
     "name": "#%% md\n"
    }
   }
  },
  {
   "cell_type": "code",
   "execution_count": 478,
   "outputs": [],
   "source": [
    "import torch\n",
    "import torch.nn as nn\n",
    "import pandas as pd\n",
    "import os\n",
    "from sklearn.preprocessing import LabelEncoder\n",
    "from torch.utils.data import Dataset, DataLoader\n",
    "from torchvision import transforms, utils\n",
    "\n",
    "from skimage import io,transform\n",
    "from torchvision import datasets\n",
    "from torchvision.transforms import ToTensor, ToPILImage, RandomCrop\n",
    "\n",
    "%matplotlib inline\n",
    "import matplotlib.pyplot as plt"
   ],
   "metadata": {
    "collapsed": false,
    "pycharm": {
     "name": "#%%\n"
    }
   }
  },
  {
   "cell_type": "code",
   "execution_count": 479,
   "outputs": [],
   "source": [
    "df = pd.read_csv(\"deeplearning/train/labels.csv\",header=None)"
   ],
   "metadata": {
    "collapsed": false,
    "pycharm": {
     "name": "#%%\n"
    }
   }
  },
  {
   "cell_type": "code",
   "execution_count": 480,
   "outputs": [],
   "source": [
    "device = torch.device('cuda' if torch.cuda.is_available() else 'cpu')"
   ],
   "metadata": {
    "collapsed": false,
    "pycharm": {
     "name": "#%%\n"
    }
   }
  },
  {
   "cell_type": "code",
   "execution_count": 481,
   "outputs": [],
   "source": [
    "def show_face(image, camera_position):\n",
    "    \"\"\"Show image with landmarks\"\"\"\n",
    "    plt.title(camera_position)\n",
    "    plt.imshow(image,cmap=\"gray\")\n",
    "    plt.pause(0.001)  # pause a bit so that plots are updated\n"
   ],
   "metadata": {
    "collapsed": false,
    "pycharm": {
     "name": "#%%\n"
    }
   }
  },
  {
   "cell_type": "code",
   "execution_count": 482,
   "outputs": [],
   "source": [
    "def encode_dataframe(df):\n",
    "    le = LabelEncoder()\n",
    "    df[1] = df[1].astype(str) + df[2].astype(str)+ df[3].astype(str)\n",
    "    df[1]  = le.fit_transform(df[1])\n",
    "    return df"
   ],
   "metadata": {
    "collapsed": false,
    "pycharm": {
     "name": "#%%\n"
    }
   }
  },
  {
   "cell_type": "code",
   "execution_count": 483,
   "outputs": [
    {
     "data": {
      "text/plain": "             0   1         2         3\n0     0001.jpg  63  0.000000  0.000000\n1     0002.jpg  56  0.000000  0.342020\n2     0003.jpg  37  0.000000  0.707107\n3     0004.jpg  14  0.000000  1.000000\n4     0005.jpg  55  0.000000 -0.342020\n...        ...  ..       ...       ...\n1833  1834.jpg   4 -0.719846  0.642788\n1834  1835.jpg   2 -0.397131  0.906308\n1835  1836.jpg   6 -0.883022 -0.342020\n1836  1837.jpg  10 -0.866025  0.000000\n1837  1838.jpg  12 -0.719846  0.342020\n\n[1838 rows x 4 columns]",
      "text/html": "<div>\n<style scoped>\n    .dataframe tbody tr th:only-of-type {\n        vertical-align: middle;\n    }\n\n    .dataframe tbody tr th {\n        vertical-align: top;\n    }\n\n    .dataframe thead th {\n        text-align: right;\n    }\n</style>\n<table border=\"1\" class=\"dataframe\">\n  <thead>\n    <tr style=\"text-align: right;\">\n      <th></th>\n      <th>0</th>\n      <th>1</th>\n      <th>2</th>\n      <th>3</th>\n    </tr>\n  </thead>\n  <tbody>\n    <tr>\n      <th>0</th>\n      <td>0001.jpg</td>\n      <td>63</td>\n      <td>0.000000</td>\n      <td>0.000000</td>\n    </tr>\n    <tr>\n      <th>1</th>\n      <td>0002.jpg</td>\n      <td>56</td>\n      <td>0.000000</td>\n      <td>0.342020</td>\n    </tr>\n    <tr>\n      <th>2</th>\n      <td>0003.jpg</td>\n      <td>37</td>\n      <td>0.000000</td>\n      <td>0.707107</td>\n    </tr>\n    <tr>\n      <th>3</th>\n      <td>0004.jpg</td>\n      <td>14</td>\n      <td>0.000000</td>\n      <td>1.000000</td>\n    </tr>\n    <tr>\n      <th>4</th>\n      <td>0005.jpg</td>\n      <td>55</td>\n      <td>0.000000</td>\n      <td>-0.342020</td>\n    </tr>\n    <tr>\n      <th>...</th>\n      <td>...</td>\n      <td>...</td>\n      <td>...</td>\n      <td>...</td>\n    </tr>\n    <tr>\n      <th>1833</th>\n      <td>1834.jpg</td>\n      <td>4</td>\n      <td>-0.719846</td>\n      <td>0.642788</td>\n    </tr>\n    <tr>\n      <th>1834</th>\n      <td>1835.jpg</td>\n      <td>2</td>\n      <td>-0.397131</td>\n      <td>0.906308</td>\n    </tr>\n    <tr>\n      <th>1835</th>\n      <td>1836.jpg</td>\n      <td>6</td>\n      <td>-0.883022</td>\n      <td>-0.342020</td>\n    </tr>\n    <tr>\n      <th>1836</th>\n      <td>1837.jpg</td>\n      <td>10</td>\n      <td>-0.866025</td>\n      <td>0.000000</td>\n    </tr>\n    <tr>\n      <th>1837</th>\n      <td>1838.jpg</td>\n      <td>12</td>\n      <td>-0.719846</td>\n      <td>0.342020</td>\n    </tr>\n  </tbody>\n</table>\n<p>1838 rows × 4 columns</p>\n</div>"
     },
     "execution_count": 483,
     "metadata": {},
     "output_type": "execute_result"
    }
   ],
   "source": [
    "encode_dataframe(df)"
   ],
   "metadata": {
    "collapsed": false,
    "pycharm": {
     "name": "#%%\n"
    }
   }
  },
  {
   "cell_type": "code",
   "execution_count": 484,
   "outputs": [],
   "source": [
    "class FaceDataset(Dataset):\n",
    "    \"\"\"Custom Fashion MNIST dataset.\"\"\"\n",
    "\n",
    "    def __init__(self, csv_file, image_dir,):\n",
    "        self.labels_df = pd.read_csv(csv_file,header=None)\n",
    "        self.labels_df = encode_dataframe(self.labels_df)\n",
    "        self.transform = transform\n",
    "        self.image_dir = image_dir\n",
    "\n",
    "    def __len__(self):\n",
    "        return len(self.labels_df)\n",
    "\n",
    "    def __getitem__(self, idx):\n",
    "        if torch.is_tensor(idx):\n",
    "            idx = idx.tolist()\n",
    "\n",
    "        img_name = os.path.join(self.image_dir,\n",
    "                                self.labels_df.iloc[idx, 0])\n",
    "        image = io.imread(img_name, as_gray=True)\n",
    "        image = transform.resize(image,(128,128))\n",
    "        convert_tensor = transforms.ToTensor()\n",
    "        image = convert_tensor(image)\n",
    "        image.unsqueeze(0)\n",
    "        camera_position = self.labels_df.iloc[idx, 1]\n",
    "\n",
    "        data = {'image': image, 'camera_position': camera_position}\n",
    "\n",
    "\n",
    "\n",
    "\n",
    "        return image, camera_position"
   ],
   "metadata": {
    "collapsed": false,
    "pycharm": {
     "name": "#%%\n"
    }
   }
  },
  {
   "cell_type": "code",
   "execution_count": 485,
   "outputs": [],
   "source": [
    "face_dataset = FaceDataset(csv_file='deeplearning/train/labels.csv',\n",
    "                           image_dir='deeplearning/train')"
   ],
   "metadata": {
    "collapsed": false,
    "pycharm": {
     "name": "#%%\n"
    }
   }
  },
  {
   "cell_type": "code",
   "execution_count": 486,
   "outputs": [],
   "source": [
    "dataloader = DataLoader(face_dataset, batch_size=4,\n",
    "                        shuffle=True, num_workers=0)"
   ],
   "metadata": {
    "collapsed": false,
    "pycharm": {
     "name": "#%%\n"
    }
   }
  },
  {
   "cell_type": "code",
   "execution_count": 487,
   "outputs": [],
   "source": [
    "# Solution\n",
    "\n",
    "class CNN(nn.Module):\n",
    "    def __init__(self):\n",
    "        super(CNN, self).__init__()\n",
    "        self.convlayers = nn.Sequential(\n",
    "            nn.Conv2d(in_channels=1, out_channels=6, kernel_size=3, stride=1, padding=1),\n",
    "            nn.BatchNorm2d(6),\n",
    "            nn.ReLU(),\n",
    "            nn.MaxPool2d(kernel_size=2, stride=2), # B x 6 x 64 x 64 after this maxpool\n",
    "            nn.Conv2d(in_channels=6, out_channels=12, kernel_size=3, stride=1, padding=1),\n",
    "            nn.BatchNorm2d(12),\n",
    "            nn.ReLU(),\n",
    "        )\n",
    "\n",
    "        self.MLP = nn.Sequential(\n",
    "            nn.Linear(in_features=12*64*64,out_features=120),\n",
    "            nn.BatchNorm1d(120),\n",
    "            nn.ReLU(),\n",
    "            nn.Linear(in_features=120,out_features=84),\n",
    "            nn.BatchNorm1d(84),\n",
    "            nn.ReLU(),\n",
    "            nn.Linear(in_features=84,out_features=64)\n",
    "        )\n",
    "\n",
    "    def forward(self, x):\n",
    "        # Input x has dimensions B x 1 x 28 x 28, B is batch size\n",
    "        x = self.convlayers(x)\n",
    "        x = x.view(x.size(0), -1)\n",
    "        print(x.shape)\n",
    "        x = self.MLP(x)\n",
    "        # Output has dimensions B x 10\n",
    "        return x\n",
    "\n",
    "model = CNN()\n",
    "loss_func = nn.CrossEntropyLoss()"
   ],
   "metadata": {
    "collapsed": false,
    "pycharm": {
     "name": "#%%\n"
    }
   }
  },
  {
   "cell_type": "code",
   "execution_count": 488,
   "outputs": [
    {
     "name": "stdout",
     "output_type": "stream",
     "text": [
      "5915128\n"
     ]
    }
   ],
   "source": [
    "total_params = sum(p.numel() for p in model.parameters() if p.requires_grad)\n",
    "print(total_params)"
   ],
   "metadata": {
    "collapsed": false,
    "pycharm": {
     "name": "#%%\n"
    }
   }
  },
  {
   "cell_type": "code",
   "execution_count": 488,
   "outputs": [],
   "source": [],
   "metadata": {
    "collapsed": false,
    "pycharm": {
     "name": "#%%\n"
    }
   }
  },
  {
   "cell_type": "code",
   "execution_count": 489,
   "outputs": [],
   "source": [
    "images,labels = next(iter(dataloader))"
   ],
   "metadata": {
    "collapsed": false,
    "pycharm": {
     "name": "#%%\n"
    }
   }
  },
  {
   "cell_type": "code",
   "execution_count": 490,
   "outputs": [
    {
     "data": {
      "text/plain": "torch.Size([4, 1, 128, 128])"
     },
     "execution_count": 490,
     "metadata": {},
     "output_type": "execute_result"
    }
   ],
   "source": [
    "images.shape"
   ],
   "metadata": {
    "collapsed": false,
    "pycharm": {
     "name": "#%%\n"
    }
   }
  },
  {
   "cell_type": "code",
   "execution_count": 491,
   "outputs": [
    {
     "name": "stdout",
     "output_type": "stream",
     "text": [
      "torch.Size([4, 49152])\n",
      "torch.Size([4, 64])\n",
      "tensor(4.3986, grad_fn=<NllLossBackward0>)\n"
     ]
    }
   ],
   "source": [
    "labels =  labels.type(torch.LongTensor)\n",
    "output = model(images.float())\n",
    "print(output.shape)\n",
    "loss = loss_func(output,labels)\n",
    "print(loss)"
   ],
   "metadata": {
    "collapsed": false,
    "pycharm": {
     "name": "#%%\n"
    }
   }
  },
  {
   "cell_type": "code",
   "execution_count": 491,
   "outputs": [],
   "source": [
    "num_epochs = 20\n",
    "\n",
    "# Set up the optimiser\n",
    "optim = torch.optim.Adam(model.parameters(), lr = 0.1)\n",
    "\n",
    "# Initialise some variables for computing and tracking stats\n",
    "iterations_per_epoch = math.ceil(len(train_data)/batch_size)\n",
    "training_losses = []\n",
    "training_accuracies = []\n",
    "testing_losses = []\n",
    "testing_accuracies = []\n",
    "for epoch in range(num_epochs):\n",
    "\n",
    "    # One epoch on the training set\n",
    "    total_loss = 0\n",
    "    correct = 0\n",
    "    total = 0\n",
    "    total_loss = 0\n",
    "    for i, (inputs, labels) in enumerate(train_loader):\n",
    "        inputs, labels = inputs.to(device), labels.to(device)\n",
    "        output = model(inputs)\n",
    "        loss = loss_func(output,labels)\n",
    "        optim.zero_grad()\n",
    "        loss.backward()\n",
    "        optim.step()\n",
    "        pred_y = torch.argmax(output, 1)\n",
    "        correct += (pred_y == labels).sum()\n",
    "        total += float(labels.size(0))\n",
    "        total_loss += loss*images.shape[0]\n",
    "        if (i+1) % 100 == 0:\n",
    "            print('Epoch [{}/{}], Iteration [{}/{}], Loss: {:.4f}'.format(epoch + 1, num_epochs, i + 1, iterations_per_epoch, loss.item()))\n",
    "    total_loss /= len(train_data)\n",
    "    training_losses.append(total_loss.item())\n",
    "    training_accuracies.append(correct/total)\n",
    "    print('Train accuracy over epoch {}: {:.4f}'.format(epoch+1,training_accuracies[-1]))\n",
    "\n",
    "    # One epoch on the test set\n",
    "    correct = 0\n",
    "    total = 0\n",
    "    # Switch to evaluation mode\n",
    "    model.eval()\n",
    "    with torch.no_grad():\n",
    "        for inputs, labels in test_loader:\n",
    "            inputs, labels = inputs.to(device), labels.to(device)\n",
    "            output = model(inputs)\n",
    "            loss = loss_func(output,labels)\n",
    "            pred_y = torch.argmax(output, 1)\n",
    "            correct += (pred_y == labels).sum()\n",
    "            total += float(labels.size(0))\n",
    "            total_loss += loss*images.shape[0]\n",
    "        test_accuracy = correct/total\n",
    "    total_loss /= len(test_data)\n",
    "    testing_losses.append(total_loss.item())\n",
    "    # Switch back to training mode\n",
    "    model.train()\n",
    "    testing_accuracies.append(test_accuracy)\n",
    "    print('Test accuracy at epoch {}: {:.4f}'.format(epoch+1,test_accuracy))"
   ],
   "metadata": {
    "collapsed": false,
    "pycharm": {
     "name": "#%%\n"
    }
   }
  }
 ],
 "metadata": {
  "kernelspec": {
   "display_name": "Python 3",
   "language": "python",
   "name": "python3"
  },
  "language_info": {
   "codemirror_mode": {
    "name": "ipython",
    "version": 2
   },
   "file_extension": ".py",
   "mimetype": "text/x-python",
   "name": "python",
   "nbconvert_exporter": "python",
   "pygments_lexer": "ipython2",
   "version": "2.7.6"
  }
 },
 "nbformat": 4,
 "nbformat_minor": 0
}