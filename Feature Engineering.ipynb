{
 "cells": [
  {
   "cell_type": "code",
   "execution_count": 88,
   "outputs": [],
   "source": [
    "import pandas as pd"
   ],
   "metadata": {
    "collapsed": false,
    "pycharm": {
     "name": "#%%\n"
    }
   }
  },
  {
   "cell_type": "code",
   "execution_count": 89,
   "outputs": [],
   "source": [
    "df = pd.read_csv(\"data.csv\")"
   ],
   "metadata": {
    "collapsed": false,
    "pycharm": {
     "name": "#%%\n"
    }
   }
  },
  {
   "cell_type": "code",
   "execution_count": 90,
   "outputs": [],
   "source": [
    "target = df[\"D\"].shift(-1)"
   ],
   "metadata": {
    "collapsed": false,
    "pycharm": {
     "name": "#%%\n"
    }
   }
  },
  {
   "cell_type": "code",
   "execution_count": 91,
   "outputs": [],
   "source": [
    "df2 = pd.DataFrame()"
   ],
   "metadata": {
    "collapsed": false,
    "pycharm": {
     "name": "#%%\n"
    }
   }
  },
  {
   "cell_type": "code",
   "execution_count": 92,
   "outputs": [
    {
     "name": "stdout",
     "output_type": "stream",
     "text": [
      "227 A\n",
      "227 B\n",
      "227 C\n",
      "227 D\n"
     ]
    },
    {
     "name": "stderr",
     "output_type": "stream",
     "text": [
      "C:\\Users\\Skwix\\AppData\\Local\\Temp/ipykernel_15808/4152372230.py:5: PerformanceWarning: DataFrame is highly fragmented.  This is usually the result of calling `frame.insert` many times, which has poor performance.  Consider joining all columns at once using pd.concat(axis=1) instead.  To get a de-fragmented frame, use `newframe = frame.copy()`\n",
      "  df[f\"{columns}_Lag_{i}\"] = df[columns].shift(-i,fill_value=fill_value)\n"
     ]
    }
   ],
   "source": [
    "for index, columns in enumerate([\"A\",\"B\",\"C\",\"D\"]):\n",
    "    print(i,columns)\n",
    "    for i in range(len(df)):\n",
    "        fill_value = df[columns].iloc[i]\n",
    "        df[f\"{columns}_Lag_{i}\"] = df[columns].shift(-i,fill_value=fill_value)\n"
   ],
   "metadata": {
    "collapsed": false,
    "pycharm": {
     "name": "#%%\n"
    }
   }
  },
  {
   "cell_type": "code",
   "execution_count": 93,
   "outputs": [],
   "source": [
    "df.drop([\"A\",\"B\",\"C\",\"D\"],axis=1,inplace=True)"
   ],
   "metadata": {
    "collapsed": false,
    "pycharm": {
     "name": "#%%\n"
    }
   }
  },
  {
   "cell_type": "code",
   "execution_count": 94,
   "outputs": [
    {
     "data": {
      "text/plain": "     A_Lag_0  A_Lag_1  A_Lag_2  A_Lag_3  A_Lag_4  A_Lag_5  A_Lag_6  A_Lag_7  \\\n0      10.07    10.00     9.95     9.93     9.88     9.84     9.78     9.73   \n1      10.00     9.95     9.93     9.88     9.84     9.78     9.73     9.67   \n2       9.95     9.93     9.88     9.84     9.78     9.73     9.67     9.60   \n3       9.93     9.88     9.84     9.78     9.73     9.67     9.60     9.56   \n4       9.88     9.84     9.78     9.73     9.67     9.60     9.56     9.48   \n..       ...      ...      ...      ...      ...      ...      ...      ...   \n223     8.98     8.91     8.80     8.73     8.70     9.84     9.78     9.73   \n224     8.91     8.80     8.73     8.70     9.88     9.84     9.78     9.73   \n225     8.80     8.73     8.70     9.93     9.88     9.84     9.78     9.73   \n226     8.73     8.70     9.95     9.93     9.88     9.84     9.78     9.73   \n227     8.70    10.00     9.95     9.93     9.88     9.84     9.78     9.73   \n\n     A_Lag_8  A_Lag_9  ...  D_Lag_218  D_Lag_219  D_Lag_220  D_Lag_221  \\\n0       9.67     9.60  ...        1.5        1.9        1.4        1.3   \n1       9.60     9.56  ...        1.9        1.4        1.3        1.3   \n2       9.56     9.48  ...        1.4        1.3        1.3        1.5   \n3       9.48     9.37  ...        1.3        1.3        1.5        1.6   \n4       9.37     9.28  ...        1.3        1.5        1.6        1.4   \n..       ...      ...  ...        ...        ...        ...        ...   \n223     9.67     9.60  ...        1.5        1.9        1.4        1.3   \n224     9.67     9.60  ...        1.5        1.9        1.4        1.3   \n225     9.67     9.60  ...        1.5        1.9        1.4        1.3   \n226     9.67     9.60  ...        1.5        1.9        1.4        1.3   \n227     9.67     9.60  ...        1.5        1.9        1.4        1.3   \n\n     D_Lag_222  D_Lag_223  D_Lag_224  D_Lag_225  D_Lag_226  D_Lag_227  \n0          1.3        1.5        1.6        1.4        1.5        1.3  \n1          1.5        1.6        1.4        1.5        1.3        1.3  \n2          1.6        1.4        1.5        1.3        1.5        1.3  \n3          1.4        1.5        1.3        1.4        1.5        1.3  \n4          1.5        1.3        1.6        1.4        1.5        1.3  \n..         ...        ...        ...        ...        ...        ...  \n223        1.3        1.5        1.6        1.4        1.5        1.3  \n224        1.3        1.5        1.6        1.4        1.5        1.3  \n225        1.3        1.5        1.6        1.4        1.5        1.3  \n226        1.3        1.5        1.6        1.4        1.5        1.3  \n227        1.3        1.5        1.6        1.4        1.5        1.3  \n\n[228 rows x 912 columns]",
      "text/html": "<div>\n<style scoped>\n    .dataframe tbody tr th:only-of-type {\n        vertical-align: middle;\n    }\n\n    .dataframe tbody tr th {\n        vertical-align: top;\n    }\n\n    .dataframe thead th {\n        text-align: right;\n    }\n</style>\n<table border=\"1\" class=\"dataframe\">\n  <thead>\n    <tr style=\"text-align: right;\">\n      <th></th>\n      <th>A_Lag_0</th>\n      <th>A_Lag_1</th>\n      <th>A_Lag_2</th>\n      <th>A_Lag_3</th>\n      <th>A_Lag_4</th>\n      <th>A_Lag_5</th>\n      <th>A_Lag_6</th>\n      <th>A_Lag_7</th>\n      <th>A_Lag_8</th>\n      <th>A_Lag_9</th>\n      <th>...</th>\n      <th>D_Lag_218</th>\n      <th>D_Lag_219</th>\n      <th>D_Lag_220</th>\n      <th>D_Lag_221</th>\n      <th>D_Lag_222</th>\n      <th>D_Lag_223</th>\n      <th>D_Lag_224</th>\n      <th>D_Lag_225</th>\n      <th>D_Lag_226</th>\n      <th>D_Lag_227</th>\n    </tr>\n  </thead>\n  <tbody>\n    <tr>\n      <th>0</th>\n      <td>10.07</td>\n      <td>10.00</td>\n      <td>9.95</td>\n      <td>9.93</td>\n      <td>9.88</td>\n      <td>9.84</td>\n      <td>9.78</td>\n      <td>9.73</td>\n      <td>9.67</td>\n      <td>9.60</td>\n      <td>...</td>\n      <td>1.5</td>\n      <td>1.9</td>\n      <td>1.4</td>\n      <td>1.3</td>\n      <td>1.3</td>\n      <td>1.5</td>\n      <td>1.6</td>\n      <td>1.4</td>\n      <td>1.5</td>\n      <td>1.3</td>\n    </tr>\n    <tr>\n      <th>1</th>\n      <td>10.00</td>\n      <td>9.95</td>\n      <td>9.93</td>\n      <td>9.88</td>\n      <td>9.84</td>\n      <td>9.78</td>\n      <td>9.73</td>\n      <td>9.67</td>\n      <td>9.60</td>\n      <td>9.56</td>\n      <td>...</td>\n      <td>1.9</td>\n      <td>1.4</td>\n      <td>1.3</td>\n      <td>1.3</td>\n      <td>1.5</td>\n      <td>1.6</td>\n      <td>1.4</td>\n      <td>1.5</td>\n      <td>1.3</td>\n      <td>1.3</td>\n    </tr>\n    <tr>\n      <th>2</th>\n      <td>9.95</td>\n      <td>9.93</td>\n      <td>9.88</td>\n      <td>9.84</td>\n      <td>9.78</td>\n      <td>9.73</td>\n      <td>9.67</td>\n      <td>9.60</td>\n      <td>9.56</td>\n      <td>9.48</td>\n      <td>...</td>\n      <td>1.4</td>\n      <td>1.3</td>\n      <td>1.3</td>\n      <td>1.5</td>\n      <td>1.6</td>\n      <td>1.4</td>\n      <td>1.5</td>\n      <td>1.3</td>\n      <td>1.5</td>\n      <td>1.3</td>\n    </tr>\n    <tr>\n      <th>3</th>\n      <td>9.93</td>\n      <td>9.88</td>\n      <td>9.84</td>\n      <td>9.78</td>\n      <td>9.73</td>\n      <td>9.67</td>\n      <td>9.60</td>\n      <td>9.56</td>\n      <td>9.48</td>\n      <td>9.37</td>\n      <td>...</td>\n      <td>1.3</td>\n      <td>1.3</td>\n      <td>1.5</td>\n      <td>1.6</td>\n      <td>1.4</td>\n      <td>1.5</td>\n      <td>1.3</td>\n      <td>1.4</td>\n      <td>1.5</td>\n      <td>1.3</td>\n    </tr>\n    <tr>\n      <th>4</th>\n      <td>9.88</td>\n      <td>9.84</td>\n      <td>9.78</td>\n      <td>9.73</td>\n      <td>9.67</td>\n      <td>9.60</td>\n      <td>9.56</td>\n      <td>9.48</td>\n      <td>9.37</td>\n      <td>9.28</td>\n      <td>...</td>\n      <td>1.3</td>\n      <td>1.5</td>\n      <td>1.6</td>\n      <td>1.4</td>\n      <td>1.5</td>\n      <td>1.3</td>\n      <td>1.6</td>\n      <td>1.4</td>\n      <td>1.5</td>\n      <td>1.3</td>\n    </tr>\n    <tr>\n      <th>...</th>\n      <td>...</td>\n      <td>...</td>\n      <td>...</td>\n      <td>...</td>\n      <td>...</td>\n      <td>...</td>\n      <td>...</td>\n      <td>...</td>\n      <td>...</td>\n      <td>...</td>\n      <td>...</td>\n      <td>...</td>\n      <td>...</td>\n      <td>...</td>\n      <td>...</td>\n      <td>...</td>\n      <td>...</td>\n      <td>...</td>\n      <td>...</td>\n      <td>...</td>\n      <td>...</td>\n    </tr>\n    <tr>\n      <th>223</th>\n      <td>8.98</td>\n      <td>8.91</td>\n      <td>8.80</td>\n      <td>8.73</td>\n      <td>8.70</td>\n      <td>9.84</td>\n      <td>9.78</td>\n      <td>9.73</td>\n      <td>9.67</td>\n      <td>9.60</td>\n      <td>...</td>\n      <td>1.5</td>\n      <td>1.9</td>\n      <td>1.4</td>\n      <td>1.3</td>\n      <td>1.3</td>\n      <td>1.5</td>\n      <td>1.6</td>\n      <td>1.4</td>\n      <td>1.5</td>\n      <td>1.3</td>\n    </tr>\n    <tr>\n      <th>224</th>\n      <td>8.91</td>\n      <td>8.80</td>\n      <td>8.73</td>\n      <td>8.70</td>\n      <td>9.88</td>\n      <td>9.84</td>\n      <td>9.78</td>\n      <td>9.73</td>\n      <td>9.67</td>\n      <td>9.60</td>\n      <td>...</td>\n      <td>1.5</td>\n      <td>1.9</td>\n      <td>1.4</td>\n      <td>1.3</td>\n      <td>1.3</td>\n      <td>1.5</td>\n      <td>1.6</td>\n      <td>1.4</td>\n      <td>1.5</td>\n      <td>1.3</td>\n    </tr>\n    <tr>\n      <th>225</th>\n      <td>8.80</td>\n      <td>8.73</td>\n      <td>8.70</td>\n      <td>9.93</td>\n      <td>9.88</td>\n      <td>9.84</td>\n      <td>9.78</td>\n      <td>9.73</td>\n      <td>9.67</td>\n      <td>9.60</td>\n      <td>...</td>\n      <td>1.5</td>\n      <td>1.9</td>\n      <td>1.4</td>\n      <td>1.3</td>\n      <td>1.3</td>\n      <td>1.5</td>\n      <td>1.6</td>\n      <td>1.4</td>\n      <td>1.5</td>\n      <td>1.3</td>\n    </tr>\n    <tr>\n      <th>226</th>\n      <td>8.73</td>\n      <td>8.70</td>\n      <td>9.95</td>\n      <td>9.93</td>\n      <td>9.88</td>\n      <td>9.84</td>\n      <td>9.78</td>\n      <td>9.73</td>\n      <td>9.67</td>\n      <td>9.60</td>\n      <td>...</td>\n      <td>1.5</td>\n      <td>1.9</td>\n      <td>1.4</td>\n      <td>1.3</td>\n      <td>1.3</td>\n      <td>1.5</td>\n      <td>1.6</td>\n      <td>1.4</td>\n      <td>1.5</td>\n      <td>1.3</td>\n    </tr>\n    <tr>\n      <th>227</th>\n      <td>8.70</td>\n      <td>10.00</td>\n      <td>9.95</td>\n      <td>9.93</td>\n      <td>9.88</td>\n      <td>9.84</td>\n      <td>9.78</td>\n      <td>9.73</td>\n      <td>9.67</td>\n      <td>9.60</td>\n      <td>...</td>\n      <td>1.5</td>\n      <td>1.9</td>\n      <td>1.4</td>\n      <td>1.3</td>\n      <td>1.3</td>\n      <td>1.5</td>\n      <td>1.6</td>\n      <td>1.4</td>\n      <td>1.5</td>\n      <td>1.3</td>\n    </tr>\n  </tbody>\n</table>\n<p>228 rows × 912 columns</p>\n</div>"
     },
     "execution_count": 94,
     "metadata": {},
     "output_type": "execute_result"
    }
   ],
   "source": [
    "df"
   ],
   "metadata": {
    "collapsed": false,
    "pycharm": {
     "name": "#%%\n"
    }
   }
  },
  {
   "cell_type": "code",
   "execution_count": null,
   "outputs": [],
   "source": [],
   "metadata": {
    "collapsed": false,
    "pycharm": {
     "name": "#%%\n"
    }
   }
  }
 ],
 "metadata": {
  "kernelspec": {
   "display_name": "Python 3",
   "language": "python",
   "name": "python3"
  },
  "language_info": {
   "codemirror_mode": {
    "name": "ipython",
    "version": 2
   },
   "file_extension": ".py",
   "mimetype": "text/x-python",
   "name": "python",
   "nbconvert_exporter": "python",
   "pygments_lexer": "ipython2",
   "version": "2.7.6"
  }
 },
 "nbformat": 4,
 "nbformat_minor": 0
}