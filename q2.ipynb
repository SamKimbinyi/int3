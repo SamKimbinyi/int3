{
 "cells": [
  {
   "cell_type": "code",
   "execution_count": 61,
   "metadata": {
    "collapsed": true
   },
   "outputs": [],
   "source": [
    "import pandas as pd\n",
    "import matplotlib.pyplot as plt\n",
    "import numpy as np\n",
    "from sklearn.decomposition import PCA\n",
    "from sklearn.linear_model import LinearRegression, Ridge\n",
    "from sklearn.linear_model import RidgeCV, LinearRegression, LassoCV\n",
    "from sklearn.model_selection import train_test_split\n",
    "from sklearn.metrics import r2_score\n",
    "from sklearn.pipeline import make_pipeline\n",
    "from sklearn.preprocessing import PolynomialFeatures"
   ]
  },
  {
   "cell_type": "code",
   "execution_count": 62,
   "outputs": [],
   "source": [
    "df = pd.read_csv(\"data.csv\")"
   ],
   "metadata": {
    "collapsed": false,
    "pycharm": {
     "name": "#%%\n"
    }
   }
  },
  {
   "cell_type": "code",
   "execution_count": 63,
   "outputs": [],
   "source": [
    "for index, columns in enumerate([\"A\", \"B\", \"C\", \"D\"]):\n",
    "    for i in range(0,3):\n",
    "        fill_value = df[columns].iloc[i]\n",
    "        df[f\"{columns}_Lag_{i}\"] = df[columns].shift(-i)\n",
    "df.drop([\"A\",\"B\",\"C\",\"D\"],axis=1,inplace=True)"
   ],
   "metadata": {
    "collapsed": false,
    "pycharm": {
     "name": "#%%\n"
    }
   }
  },
  {
   "cell_type": "code",
   "execution_count": 64,
   "outputs": [
    {
     "data": {
      "text/plain": "<bound method NDFrame.tail of      A_Lag_0  A_Lag_1  A_Lag_2  B_Lag_0  B_Lag_1  B_Lag_2  C_Lag_0  C_Lag_1  \\\n0      10.07    10.00     9.95     2.18     2.20     2.21      3.0      3.0   \n1      10.00     9.95     9.93     2.20     2.21     2.30      3.0      3.0   \n2       9.95     9.93     9.88     2.21     2.30     2.30      3.0      2.5   \n3       9.93     9.88     9.84     2.30     2.30     2.31      2.5      2.5   \n4       9.88     9.84     9.78     2.30     2.31     2.80      2.5      2.5   \n..       ...      ...      ...      ...      ...      ...      ...      ...   \n223     8.98     8.91     8.80     3.00     3.10     3.20      0.0      0.0   \n224     8.91     8.80     8.73     3.10     3.20     3.10      0.0      0.0   \n225     8.80     8.73     8.70     3.20     3.10     3.00      0.0      0.0   \n226     8.73     8.70      NaN     3.10     3.00      NaN      0.0      0.0   \n227     8.70      NaN      NaN     3.00      NaN      NaN      0.0      NaN   \n\n     C_Lag_2  D_Lag_0  D_Lag_1  D_Lag_2  \n0        3.0      0.8      0.7      0.9  \n1        2.5      0.7      0.9      1.1  \n2        2.5      0.9      1.1      0.9  \n3        2.5      1.1      0.9      0.9  \n4        2.5      0.9      0.9      1.0  \n..       ...      ...      ...      ...  \n223      0.0      1.5      1.6      1.4  \n224      0.0      1.6      1.4      1.5  \n225      0.0      1.4      1.5      1.3  \n226      NaN      1.5      1.3      NaN  \n227      NaN      1.3      NaN      NaN  \n\n[228 rows x 12 columns]>"
     },
     "execution_count": 64,
     "metadata": {},
     "output_type": "execute_result"
    }
   ],
   "source": [
    "df.tail"
   ],
   "metadata": {
    "collapsed": false,
    "pycharm": {
     "name": "#%%\n"
    }
   }
  },
  {
   "cell_type": "code",
   "execution_count": 65,
   "outputs": [],
   "source": [
    "pca = PCA(n_components=7)"
   ],
   "metadata": {
    "collapsed": false,
    "pycharm": {
     "name": "#%%\n"
    }
   }
  },
  {
   "cell_type": "code",
   "execution_count": 66,
   "outputs": [],
   "source": [
    "df.dropna(inplace=True)"
   ],
   "metadata": {
    "collapsed": false,
    "pycharm": {
     "name": "#%%\n"
    }
   }
  },
  {
   "cell_type": "code",
   "execution_count": 67,
   "outputs": [
    {
     "data": {
      "text/plain": "     A_Lag_0  A_Lag_1  A_Lag_2  B_Lag_0  B_Lag_1  B_Lag_2  C_Lag_0  C_Lag_1  \\\n0      10.07    10.00     9.95     2.18     2.20     2.21      3.0      3.0   \n1      10.00     9.95     9.93     2.20     2.21     2.30      3.0      3.0   \n2       9.95     9.93     9.88     2.21     2.30     2.30      3.0      2.5   \n3       9.93     9.88     9.84     2.30     2.30     2.31      2.5      2.5   \n4       9.88     9.84     9.78     2.30     2.31     2.80      2.5      2.5   \n..       ...      ...      ...      ...      ...      ...      ...      ...   \n221     9.08     9.04     8.98     2.80     2.90     3.00      0.0      0.0   \n222     9.04     8.98     8.91     2.90     3.00     3.10      0.0      0.0   \n223     8.98     8.91     8.80     3.00     3.10     3.20      0.0      0.0   \n224     8.91     8.80     8.73     3.10     3.20     3.10      0.0      0.0   \n225     8.80     8.73     8.70     3.20     3.10     3.00      0.0      0.0   \n\n     C_Lag_2  D_Lag_0  D_Lag_1  D_Lag_2  \n0        3.0      0.8      0.7      0.9  \n1        2.5      0.7      0.9      1.1  \n2        2.5      0.9      1.1      0.9  \n3        2.5      1.1      0.9      0.9  \n4        2.5      0.9      0.9      1.0  \n..       ...      ...      ...      ...  \n221      0.0      1.3      1.3      1.5  \n222      0.0      1.3      1.5      1.6  \n223      0.0      1.5      1.6      1.4  \n224      0.0      1.6      1.4      1.5  \n225      0.0      1.4      1.5      1.3  \n\n[226 rows x 12 columns]",
      "text/html": "<div>\n<style scoped>\n    .dataframe tbody tr th:only-of-type {\n        vertical-align: middle;\n    }\n\n    .dataframe tbody tr th {\n        vertical-align: top;\n    }\n\n    .dataframe thead th {\n        text-align: right;\n    }\n</style>\n<table border=\"1\" class=\"dataframe\">\n  <thead>\n    <tr style=\"text-align: right;\">\n      <th></th>\n      <th>A_Lag_0</th>\n      <th>A_Lag_1</th>\n      <th>A_Lag_2</th>\n      <th>B_Lag_0</th>\n      <th>B_Lag_1</th>\n      <th>B_Lag_2</th>\n      <th>C_Lag_0</th>\n      <th>C_Lag_1</th>\n      <th>C_Lag_2</th>\n      <th>D_Lag_0</th>\n      <th>D_Lag_1</th>\n      <th>D_Lag_2</th>\n    </tr>\n  </thead>\n  <tbody>\n    <tr>\n      <th>0</th>\n      <td>10.07</td>\n      <td>10.00</td>\n      <td>9.95</td>\n      <td>2.18</td>\n      <td>2.20</td>\n      <td>2.21</td>\n      <td>3.0</td>\n      <td>3.0</td>\n      <td>3.0</td>\n      <td>0.8</td>\n      <td>0.7</td>\n      <td>0.9</td>\n    </tr>\n    <tr>\n      <th>1</th>\n      <td>10.00</td>\n      <td>9.95</td>\n      <td>9.93</td>\n      <td>2.20</td>\n      <td>2.21</td>\n      <td>2.30</td>\n      <td>3.0</td>\n      <td>3.0</td>\n      <td>2.5</td>\n      <td>0.7</td>\n      <td>0.9</td>\n      <td>1.1</td>\n    </tr>\n    <tr>\n      <th>2</th>\n      <td>9.95</td>\n      <td>9.93</td>\n      <td>9.88</td>\n      <td>2.21</td>\n      <td>2.30</td>\n      <td>2.30</td>\n      <td>3.0</td>\n      <td>2.5</td>\n      <td>2.5</td>\n      <td>0.9</td>\n      <td>1.1</td>\n      <td>0.9</td>\n    </tr>\n    <tr>\n      <th>3</th>\n      <td>9.93</td>\n      <td>9.88</td>\n      <td>9.84</td>\n      <td>2.30</td>\n      <td>2.30</td>\n      <td>2.31</td>\n      <td>2.5</td>\n      <td>2.5</td>\n      <td>2.5</td>\n      <td>1.1</td>\n      <td>0.9</td>\n      <td>0.9</td>\n    </tr>\n    <tr>\n      <th>4</th>\n      <td>9.88</td>\n      <td>9.84</td>\n      <td>9.78</td>\n      <td>2.30</td>\n      <td>2.31</td>\n      <td>2.80</td>\n      <td>2.5</td>\n      <td>2.5</td>\n      <td>2.5</td>\n      <td>0.9</td>\n      <td>0.9</td>\n      <td>1.0</td>\n    </tr>\n    <tr>\n      <th>...</th>\n      <td>...</td>\n      <td>...</td>\n      <td>...</td>\n      <td>...</td>\n      <td>...</td>\n      <td>...</td>\n      <td>...</td>\n      <td>...</td>\n      <td>...</td>\n      <td>...</td>\n      <td>...</td>\n      <td>...</td>\n    </tr>\n    <tr>\n      <th>221</th>\n      <td>9.08</td>\n      <td>9.04</td>\n      <td>8.98</td>\n      <td>2.80</td>\n      <td>2.90</td>\n      <td>3.00</td>\n      <td>0.0</td>\n      <td>0.0</td>\n      <td>0.0</td>\n      <td>1.3</td>\n      <td>1.3</td>\n      <td>1.5</td>\n    </tr>\n    <tr>\n      <th>222</th>\n      <td>9.04</td>\n      <td>8.98</td>\n      <td>8.91</td>\n      <td>2.90</td>\n      <td>3.00</td>\n      <td>3.10</td>\n      <td>0.0</td>\n      <td>0.0</td>\n      <td>0.0</td>\n      <td>1.3</td>\n      <td>1.5</td>\n      <td>1.6</td>\n    </tr>\n    <tr>\n      <th>223</th>\n      <td>8.98</td>\n      <td>8.91</td>\n      <td>8.80</td>\n      <td>3.00</td>\n      <td>3.10</td>\n      <td>3.20</td>\n      <td>0.0</td>\n      <td>0.0</td>\n      <td>0.0</td>\n      <td>1.5</td>\n      <td>1.6</td>\n      <td>1.4</td>\n    </tr>\n    <tr>\n      <th>224</th>\n      <td>8.91</td>\n      <td>8.80</td>\n      <td>8.73</td>\n      <td>3.10</td>\n      <td>3.20</td>\n      <td>3.10</td>\n      <td>0.0</td>\n      <td>0.0</td>\n      <td>0.0</td>\n      <td>1.6</td>\n      <td>1.4</td>\n      <td>1.5</td>\n    </tr>\n    <tr>\n      <th>225</th>\n      <td>8.80</td>\n      <td>8.73</td>\n      <td>8.70</td>\n      <td>3.20</td>\n      <td>3.10</td>\n      <td>3.00</td>\n      <td>0.0</td>\n      <td>0.0</td>\n      <td>0.0</td>\n      <td>1.4</td>\n      <td>1.5</td>\n      <td>1.3</td>\n    </tr>\n  </tbody>\n</table>\n<p>226 rows × 12 columns</p>\n</div>"
     },
     "execution_count": 67,
     "metadata": {},
     "output_type": "execute_result"
    }
   ],
   "source": [
    "df"
   ],
   "metadata": {
    "collapsed": false,
    "pycharm": {
     "name": "#%%\n"
    }
   }
  },
  {
   "cell_type": "code",
   "execution_count": 68,
   "outputs": [],
   "source": [
    "pca = PCA(n_components=12)"
   ],
   "metadata": {
    "collapsed": false,
    "pycharm": {
     "name": "#%%\n"
    }
   }
  },
  {
   "cell_type": "code",
   "execution_count": 69,
   "outputs": [
    {
     "data": {
      "text/plain": "PCA(n_components=12)"
     },
     "execution_count": 69,
     "metadata": {},
     "output_type": "execute_result"
    }
   ],
   "source": [
    "pca.fit(df)"
   ],
   "metadata": {
    "collapsed": false,
    "pycharm": {
     "name": "#%%\n"
    }
   }
  },
  {
   "cell_type": "code",
   "execution_count": 70,
   "outputs": [],
   "source": [
    "newData = pca.fit_transform(df)"
   ],
   "metadata": {
    "collapsed": false,
    "pycharm": {
     "name": "#%%\n"
    }
   }
  },
  {
   "cell_type": "code",
   "execution_count": 71,
   "outputs": [
    {
     "data": {
      "text/plain": "array([[-1.22763053e+00, -6.56024796e-01,  6.99172092e-01, ...,\n        -1.20836644e-02, -1.48828177e-02,  1.23312610e-02],\n       [-1.20113195e+00, -7.76071214e-01,  6.34725750e-01, ...,\n        -1.93633225e-01, -3.05237027e-03,  6.68141165e-03],\n       [-1.14714566e+00, -9.03070511e-01,  6.00218079e-01, ...,\n         2.33807826e-01, -6.98818797e-05, -1.63350978e-02],\n       ...,\n       [-7.79058624e-01, -3.38888413e+00,  1.24460729e+00, ...,\n         1.33708375e-02, -1.08820302e-02, -2.22872736e-02],\n       [-8.85952089e-01, -3.36659051e+00,  1.31912767e+00, ...,\n        -1.67188466e-02, -1.62476568e-02,  1.84258602e-02],\n       [-8.59858523e-01, -3.31166302e+00,  1.51738791e+00, ...,\n         7.36830862e-03,  4.27339445e-02,  8.17800521e-03]])"
     },
     "execution_count": 71,
     "metadata": {},
     "output_type": "execute_result"
    }
   ],
   "source": [
    "newData"
   ],
   "metadata": {
    "collapsed": false,
    "pycharm": {
     "name": "#%%\n"
    }
   }
  },
  {
   "cell_type": "code",
   "execution_count": 76,
   "outputs": [
    {
     "data": {
      "text/plain": "B_Lag_2    3.767377\nB_Lag_1    3.759014\nB_Lag_0    3.749038\nC_Lag_2    2.154163\nC_Lag_1    2.143738\nC_Lag_0    2.132960\nA_Lag_2    1.631581\nA_Lag_1    1.628678\nA_Lag_0    1.626211\nD_Lag_0    0.903024\nD_Lag_1    0.899449\nD_Lag_2    0.895569\ndtype: float64"
     },
     "execution_count": 76,
     "metadata": {},
     "output_type": "execute_result"
    }
   ],
   "source": [
    "df.var(axis=0).sort_values(ascending=False)"
   ],
   "metadata": {
    "collapsed": false,
    "pycharm": {
     "name": "#%%\n"
    }
   }
  },
  {
   "cell_type": "code",
   "execution_count": 82,
   "outputs": [
    {
     "name": "stdout",
     "output_type": "stream",
     "text": [
      "Total Variance for PCA data: 25.290800631268446\n"
     ]
    }
   ],
   "source": [
    "print(f\"Total Variance for PCA data: {pd.Series(df.var(axis=0)).sum()}\")"
   ],
   "metadata": {
    "collapsed": false,
    "pycharm": {
     "name": "#%%\n"
    }
   }
  },
  {
   "cell_type": "code",
   "execution_count": 79,
   "outputs": [
    {
     "data": {
      "text/plain": "0     14.320161\n1      7.844178\n2      1.615844\n3      1.050202\n4      0.182004\n5      0.064472\n6      0.046130\n7      0.022442\n8      0.017806\n9      0.011778\n10     0.003165\n11     0.000712\ndtype: float64"
     },
     "execution_count": 79,
     "metadata": {},
     "output_type": "execute_result"
    }
   ],
   "source": [
    "pd.Series(newData.var(axis=0)).sort_values(ascending=False)"
   ],
   "metadata": {
    "collapsed": false,
    "pycharm": {
     "name": "#%%\n"
    }
   }
  },
  {
   "cell_type": "code",
   "execution_count": 83,
   "outputs": [
    {
     "name": "stdout",
     "output_type": "stream",
     "text": [
      "Total Variance for PCA data: 25.178894433784926\n"
     ]
    }
   ],
   "source": [
    "print(f\"Total Variance for PCA data: {pd.Series(newData.var(axis=0)).sum()}\")"
   ],
   "metadata": {
    "collapsed": false,
    "pycharm": {
     "name": "#%%\n"
    }
   }
  }
 ],
 "metadata": {
  "kernelspec": {
   "display_name": "Python 3",
   "language": "python",
   "name": "python3"
  },
  "language_info": {
   "codemirror_mode": {
    "name": "ipython",
    "version": 2
   },
   "file_extension": ".py",
   "mimetype": "text/x-python",
   "name": "python",
   "nbconvert_exporter": "python",
   "pygments_lexer": "ipython2",
   "version": "2.7.6"
  }
 },
 "nbformat": 4,
 "nbformat_minor": 0
}